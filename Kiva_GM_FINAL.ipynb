{
  "nbformat": 4,
  "nbformat_minor": 0,
  "metadata": {
    "kernelspec": {
      "display_name": "Python 3",
      "language": "python",
      "name": "python3"
    },
    "language_info": {
      "codemirror_mode": {
        "name": "ipython",
        "version": 3
      },
      "file_extension": ".py",
      "mimetype": "text/x-python",
      "name": "python",
      "nbconvert_exporter": "python",
      "pygments_lexer": "ipython3",
      "version": "3.7.6"
    },
    "colab": {
      "name": "Kiva_V3.ipynb",
      "provenance": [],
      "collapsed_sections": []
    }
  },
  "cells": [
    {
      "cell_type": "markdown",
      "metadata": {
        "id": "rf3ZpsiewFg0",
        "colab_type": "text"
      },
      "source": [
        "# **UCL Data Science Society; Hackathon 2020**\n",
        "\n",
        "## *Data Science for Good - Kiva Crowdfunding*\n",
        "\n",
        "*Gaurav Mehan*\n"
      ]
    },
    {
      "cell_type": "markdown",
      "metadata": {
        "id": "haJpO4QvwqMw",
        "colab_type": "text"
      },
      "source": [
        "## **Preface** \n",
        "\n",
        "Data Science has always had a defined role in fintech - **use data science to better understand how the finance of others can be managed** and/or grown, such as risk analysis and investments. \n",
        "However, many established banking corporations have slowly been setting up thinktanks to rather use their **finance**, **technology** and **expertise** to do some **good**.\n",
        "\n",
        "In a world where accountability must be **transparent**, *corporate social responisiblty (csr)* has become a greater factor in customer satisfaction and rather an essential part of any business.\n",
        "\n",
        "*Kiva* is an **not--for-profit online crowdfunding platform** to extend financial services to poor and financially excluded people around the world. Kiva's mission is '*to expand financial access to help underserved communities thrive*'.\n",
        "\n",
        " It is often a difficult task for lenders to assses loan applications and choose what projects to fund, and how much to give. It is imperative to understand the level of poverty among communities across the globe, and knowing which people to help as such to help the most people, much like a *'domino effect'*. \n",
        "\n",
        "As such, creating a **Machine Learning** (ML) model that can perfectly achieve this is out of my scope and quite frankly difficult. \n",
        "However, I do intend on using Kiva's open source data [1] on loan applications to aid lenders in one feature - the **amount of funding to give**, that will depend on successful and unsuccessful loan applications, as well as a measure of the amount of poverty in communities, which is assessed using the *Multidimensional Poverty Index* (MPI) [2]. This will be achieved via simple ML model. \n",
        "Please note that the measure of poverty in the MPI has it's own definitions and is based in itself on a number of features outlined in their report. \n",
        "\n",
        "*American Express* are already familiar with this concept with their '*Shop Small*' initiaitve. They are already encouraging their customers, and indeed all consumers, to **support local businesses** through spending and even cashback for their customers who spend at participating local businesses. \n",
        "\n",
        "However, with limited presence in many developing countries, it has been **difficult to support local businesses without a customer base**. \n",
        "\n",
        "Rather than encouraging consumers to support local businesses, perhaps a new business area can be set up to directly give customers the ability to use their finances to **invest in these deprived communities** with the goal of both increasing their own investments and **doing good deeds**. \n",
        "This is of course all part of a greater deal in which significant research would have to be undertaken by AMEX, which is why I propose this simply as an idea with a small example of how ML can be used in this way.\n",
        "\n",
        "If you do have any questions then please feel free to contact me via my email: \n",
        "*zcapgme@ucl.ac.uk*\n",
        "\n"
      ]
    },
    {
      "cell_type": "markdown",
      "metadata": {
        "id": "UUgh2Lb2OZXL",
        "colab_type": "text"
      },
      "source": [
        "## ***Part I:*** **Data Analysis and Visualisation**"
      ]
    },
    {
      "cell_type": "code",
      "metadata": {
        "id": "_eXSfRgakath",
        "colab_type": "code",
        "colab": {}
      },
      "source": [
        "import numpy as np\n",
        "import pandas as pd\n",
        "from matplotlib import pyplot as plt"
      ],
      "execution_count": 6,
      "outputs": []
    },
    {
      "cell_type": "code",
      "metadata": {
        "id": "zkoN_Lwtkatl",
        "colab_type": "code",
        "colab": {}
      },
      "source": [
        "#importing the data\n",
        "loans = pd.read_csv('kiva_loans.csv') \n",
        "loc = pd.read_csv('kiva_mpi_region_locations.csv')"
      ],
      "execution_count": 12,
      "outputs": []
    },
    {
      "cell_type": "code",
      "metadata": {
        "id": "z__dQf_wkatp",
        "colab_type": "code",
        "colab": {}
      },
      "source": [
        "#remove any records with incomplete data\n",
        "loans.dropna(inplace = True)\n",
        "loc.dropna(inplace = True)"
      ],
      "execution_count": 13,
      "outputs": []
    },
    {
      "cell_type": "code",
      "metadata": {
        "id": "tZ10S96hkatt",
        "colab_type": "code",
        "colab": {
          "base_uri": "https://localhost:8080/",
          "height": 34
        },
        "outputId": "b51d023c-3e84-460a-d91c-df4d262f2067"
      },
      "source": [
        "print('The number of loan applications is:', len(loans))"
      ],
      "execution_count": 14,
      "outputs": [
        {
          "output_type": "stream",
          "text": [
            "The number of loan applications is: 22733\n"
          ],
          "name": "stdout"
        }
      ]
    },
    {
      "cell_type": "code",
      "metadata": {
        "id": "vjJURKD1katx",
        "colab_type": "code",
        "colab": {
          "base_uri": "https://localhost:8080/",
          "height": 683
        },
        "outputId": "ee371577-060f-49c4-8b06-d2b29cf46a69"
      },
      "source": [
        "loans.head()"
      ],
      "execution_count": 15,
      "outputs": [
        {
          "output_type": "execute_result",
          "data": {
            "text/html": [
              "<div>\n",
              "<style scoped>\n",
              "    .dataframe tbody tr th:only-of-type {\n",
              "        vertical-align: middle;\n",
              "    }\n",
              "\n",
              "    .dataframe tbody tr th {\n",
              "        vertical-align: top;\n",
              "    }\n",
              "\n",
              "    .dataframe thead th {\n",
              "        text-align: right;\n",
              "    }\n",
              "</style>\n",
              "<table border=\"1\" class=\"dataframe\">\n",
              "  <thead>\n",
              "    <tr style=\"text-align: right;\">\n",
              "      <th></th>\n",
              "      <th>id</th>\n",
              "      <th>funded_amount</th>\n",
              "      <th>loan_amount</th>\n",
              "      <th>activity</th>\n",
              "      <th>sector</th>\n",
              "      <th>use</th>\n",
              "      <th>country_code</th>\n",
              "      <th>country</th>\n",
              "      <th>region</th>\n",
              "      <th>currency</th>\n",
              "      <th>partner_id</th>\n",
              "      <th>posted_time</th>\n",
              "      <th>disbursed_time</th>\n",
              "      <th>funded_time</th>\n",
              "      <th>term_in_months</th>\n",
              "      <th>lender_count</th>\n",
              "      <th>tags</th>\n",
              "      <th>borrower_genders</th>\n",
              "      <th>repayment_interval</th>\n",
              "      <th>date</th>\n",
              "    </tr>\n",
              "  </thead>\n",
              "  <tbody>\n",
              "    <tr>\n",
              "      <th>2</th>\n",
              "      <td>653068</td>\n",
              "      <td>150.0</td>\n",
              "      <td>150.0</td>\n",
              "      <td>Transportation</td>\n",
              "      <td>Transportation</td>\n",
              "      <td>To repair their old cycle-van and buy another ...</td>\n",
              "      <td>IN</td>\n",
              "      <td>India</td>\n",
              "      <td>Maynaguri</td>\n",
              "      <td>INR</td>\n",
              "      <td>334.0</td>\n",
              "      <td>2014-01-01 09:58:07+00:00</td>\n",
              "      <td>2013-12-17 08:00:00+00:00</td>\n",
              "      <td>2014-01-01 16:01:36+00:00</td>\n",
              "      <td>43.0</td>\n",
              "      <td>6.0</td>\n",
              "      <td>user_favorite, user_favorite</td>\n",
              "      <td>female</td>\n",
              "      <td>bullet</td>\n",
              "      <td>2014-01-01</td>\n",
              "    </tr>\n",
              "    <tr>\n",
              "      <th>6</th>\n",
              "      <td>653067</td>\n",
              "      <td>200.0</td>\n",
              "      <td>200.0</td>\n",
              "      <td>Dairy</td>\n",
              "      <td>Agriculture</td>\n",
              "      <td>To purchase a dairy cow and start a milk produ...</td>\n",
              "      <td>IN</td>\n",
              "      <td>India</td>\n",
              "      <td>Maynaguri</td>\n",
              "      <td>INR</td>\n",
              "      <td>334.0</td>\n",
              "      <td>2014-01-01 09:51:02+00:00</td>\n",
              "      <td>2013-12-16 08:00:00+00:00</td>\n",
              "      <td>2014-01-01 17:18:09+00:00</td>\n",
              "      <td>43.0</td>\n",
              "      <td>8.0</td>\n",
              "      <td>user_favorite, user_favorite</td>\n",
              "      <td>female</td>\n",
              "      <td>bullet</td>\n",
              "      <td>2014-01-01</td>\n",
              "    </tr>\n",
              "    <tr>\n",
              "      <th>7</th>\n",
              "      <td>653078</td>\n",
              "      <td>400.0</td>\n",
              "      <td>400.0</td>\n",
              "      <td>Beauty Salon</td>\n",
              "      <td>Services</td>\n",
              "      <td>to buy more hair and skin care products.</td>\n",
              "      <td>PK</td>\n",
              "      <td>Pakistan</td>\n",
              "      <td>Ellahabad</td>\n",
              "      <td>PKR</td>\n",
              "      <td>245.0</td>\n",
              "      <td>2014-01-01 11:46:01+00:00</td>\n",
              "      <td>2013-12-20 08:00:00+00:00</td>\n",
              "      <td>2014-01-10 18:18:44+00:00</td>\n",
              "      <td>14.0</td>\n",
              "      <td>8.0</td>\n",
              "      <td>#Elderly, #Woman Owned Biz</td>\n",
              "      <td>female</td>\n",
              "      <td>monthly</td>\n",
              "      <td>2014-01-01</td>\n",
              "    </tr>\n",
              "    <tr>\n",
              "      <th>8</th>\n",
              "      <td>653082</td>\n",
              "      <td>475.0</td>\n",
              "      <td>475.0</td>\n",
              "      <td>Manufacturing</td>\n",
              "      <td>Manufacturing</td>\n",
              "      <td>to purchase leather, plastic soles and heels i...</td>\n",
              "      <td>PK</td>\n",
              "      <td>Pakistan</td>\n",
              "      <td>Lahore</td>\n",
              "      <td>PKR</td>\n",
              "      <td>245.0</td>\n",
              "      <td>2014-01-01 11:49:43+00:00</td>\n",
              "      <td>2013-12-20 08:00:00+00:00</td>\n",
              "      <td>2014-01-01 18:47:21+00:00</td>\n",
              "      <td>14.0</td>\n",
              "      <td>19.0</td>\n",
              "      <td>user_favorite</td>\n",
              "      <td>female</td>\n",
              "      <td>monthly</td>\n",
              "      <td>2014-01-01</td>\n",
              "    </tr>\n",
              "    <tr>\n",
              "      <th>12</th>\n",
              "      <td>653089</td>\n",
              "      <td>400.0</td>\n",
              "      <td>400.0</td>\n",
              "      <td>General Store</td>\n",
              "      <td>Retail</td>\n",
              "      <td>to buy stock of rice, sugar and flour .</td>\n",
              "      <td>PK</td>\n",
              "      <td>Pakistan</td>\n",
              "      <td>Faisalabad</td>\n",
              "      <td>PKR</td>\n",
              "      <td>245.0</td>\n",
              "      <td>2014-01-01 12:04:57+00:00</td>\n",
              "      <td>2013-12-24 08:00:00+00:00</td>\n",
              "      <td>2014-01-08 00:35:14+00:00</td>\n",
              "      <td>14.0</td>\n",
              "      <td>16.0</td>\n",
              "      <td>#Repeat Borrower, #Woman Owned Biz</td>\n",
              "      <td>female</td>\n",
              "      <td>monthly</td>\n",
              "      <td>2014-01-01</td>\n",
              "    </tr>\n",
              "  </tbody>\n",
              "</table>\n",
              "</div>"
            ],
            "text/plain": [
              "        id  funded_amount  ...  repayment_interval        date\n",
              "2   653068          150.0  ...              bullet  2014-01-01\n",
              "6   653067          200.0  ...              bullet  2014-01-01\n",
              "7   653078          400.0  ...             monthly  2014-01-01\n",
              "8   653082          475.0  ...             monthly  2014-01-01\n",
              "12  653089          400.0  ...             monthly  2014-01-01\n",
              "\n",
              "[5 rows x 20 columns]"
            ]
          },
          "metadata": {
            "tags": []
          },
          "execution_count": 15
        }
      ]
    },
    {
      "cell_type": "markdown",
      "metadata": {
        "id": "pNwWSs0kN-Wr",
        "colab_type": "text"
      },
      "source": [
        "A general overview of the data at hand can be seen from above. These hold specific data regarding the loan applications. \n",
        "\n",
        "It should be pointed out that ***funded_amount*** and ***loan_amount*** are in currency **USD**. \n",
        "Furthermore, ***sector*** has been described as a *'High Level category'* whereas ***activity*** a *'more granular category'* [1]"
      ]
    },
    {
      "cell_type": "code",
      "metadata": {
        "id": "aUq9vs04Pip7",
        "colab_type": "code",
        "colab": {
          "base_uri": "https://localhost:8080/",
          "height": 476
        },
        "outputId": "fec1846a-d3a5-4150-b75d-04bca060f364"
      },
      "source": [
        "loans.info()"
      ],
      "execution_count": 16,
      "outputs": [
        {
          "output_type": "stream",
          "text": [
            "<class 'pandas.core.frame.DataFrame'>\n",
            "Int64Index: 22733 entries, 2 to 50347\n",
            "Data columns (total 20 columns):\n",
            " #   Column              Non-Null Count  Dtype  \n",
            "---  ------              --------------  -----  \n",
            " 0   id                  22733 non-null  int64  \n",
            " 1   funded_amount       22733 non-null  float64\n",
            " 2   loan_amount         22733 non-null  float64\n",
            " 3   activity            22733 non-null  object \n",
            " 4   sector              22733 non-null  object \n",
            " 5   use                 22733 non-null  object \n",
            " 6   country_code        22733 non-null  object \n",
            " 7   country             22733 non-null  object \n",
            " 8   region              22733 non-null  object \n",
            " 9   currency            22733 non-null  object \n",
            " 10  partner_id          22733 non-null  float64\n",
            " 11  posted_time         22733 non-null  object \n",
            " 12  disbursed_time      22733 non-null  object \n",
            " 13  funded_time         22733 non-null  object \n",
            " 14  term_in_months      22733 non-null  float64\n",
            " 15  lender_count        22733 non-null  float64\n",
            " 16  tags                22733 non-null  object \n",
            " 17  borrower_genders    22733 non-null  object \n",
            " 18  repayment_interval  22733 non-null  object \n",
            " 19  date                22733 non-null  object \n",
            "dtypes: float64(5), int64(1), object(14)\n",
            "memory usage: 3.6+ MB\n"
          ],
          "name": "stdout"
        }
      ]
    },
    {
      "cell_type": "markdown",
      "metadata": {
        "id": "_e94qdhfPvlp",
        "colab_type": "text"
      },
      "source": [
        "Of course the csv file contains a range of data types; some numerical, some catogorical, some string heavy. "
      ]
    },
    {
      "cell_type": "code",
      "metadata": {
        "id": "JcKYKGpZkat0",
        "colab_type": "code",
        "colab": {
          "base_uri": "https://localhost:8080/",
          "height": 297
        },
        "outputId": "490395ee-7976-4363-8770-9bada884f5f9"
      },
      "source": [
        "loans.describe()"
      ],
      "execution_count": 17,
      "outputs": [
        {
          "output_type": "execute_result",
          "data": {
            "text/html": [
              "<div>\n",
              "<style scoped>\n",
              "    .dataframe tbody tr th:only-of-type {\n",
              "        vertical-align: middle;\n",
              "    }\n",
              "\n",
              "    .dataframe tbody tr th {\n",
              "        vertical-align: top;\n",
              "    }\n",
              "\n",
              "    .dataframe thead th {\n",
              "        text-align: right;\n",
              "    }\n",
              "</style>\n",
              "<table border=\"1\" class=\"dataframe\">\n",
              "  <thead>\n",
              "    <tr style=\"text-align: right;\">\n",
              "      <th></th>\n",
              "      <th>id</th>\n",
              "      <th>funded_amount</th>\n",
              "      <th>loan_amount</th>\n",
              "      <th>partner_id</th>\n",
              "      <th>term_in_months</th>\n",
              "      <th>lender_count</th>\n",
              "    </tr>\n",
              "  </thead>\n",
              "  <tbody>\n",
              "    <tr>\n",
              "      <th>count</th>\n",
              "      <td>22733.000000</td>\n",
              "      <td>22733.000000</td>\n",
              "      <td>22733.000000</td>\n",
              "      <td>22733.000000</td>\n",
              "      <td>22733.000000</td>\n",
              "      <td>22733.000000</td>\n",
              "    </tr>\n",
              "    <tr>\n",
              "      <th>mean</th>\n",
              "      <td>677674.574583</td>\n",
              "      <td>1123.253640</td>\n",
              "      <td>1123.253640</td>\n",
              "      <td>159.042845</td>\n",
              "      <td>15.582589</td>\n",
              "      <td>34.698412</td>\n",
              "    </tr>\n",
              "    <tr>\n",
              "      <th>std</th>\n",
              "      <td>14419.240456</td>\n",
              "      <td>1260.256739</td>\n",
              "      <td>1260.256739</td>\n",
              "      <td>67.737450</td>\n",
              "      <td>9.634469</td>\n",
              "      <td>37.188470</td>\n",
              "    </tr>\n",
              "    <tr>\n",
              "      <th>min</th>\n",
              "      <td>653047.000000</td>\n",
              "      <td>25.000000</td>\n",
              "      <td>25.000000</td>\n",
              "      <td>9.000000</td>\n",
              "      <td>2.000000</td>\n",
              "      <td>1.000000</td>\n",
              "    </tr>\n",
              "    <tr>\n",
              "      <th>25%</th>\n",
              "      <td>665246.000000</td>\n",
              "      <td>450.000000</td>\n",
              "      <td>450.000000</td>\n",
              "      <td>119.000000</td>\n",
              "      <td>10.000000</td>\n",
              "      <td>14.000000</td>\n",
              "    </tr>\n",
              "    <tr>\n",
              "      <th>50%</th>\n",
              "      <td>677386.000000</td>\n",
              "      <td>750.000000</td>\n",
              "      <td>750.000000</td>\n",
              "      <td>156.000000</td>\n",
              "      <td>14.000000</td>\n",
              "      <td>24.000000</td>\n",
              "    </tr>\n",
              "    <tr>\n",
              "      <th>75%</th>\n",
              "      <td>690255.000000</td>\n",
              "      <td>1275.000000</td>\n",
              "      <td>1275.000000</td>\n",
              "      <td>201.000000</td>\n",
              "      <td>16.000000</td>\n",
              "      <td>41.000000</td>\n",
              "    </tr>\n",
              "    <tr>\n",
              "      <th>max</th>\n",
              "      <td>702902.000000</td>\n",
              "      <td>50000.000000</td>\n",
              "      <td>50000.000000</td>\n",
              "      <td>370.000000</td>\n",
              "      <td>148.000000</td>\n",
              "      <td>1491.000000</td>\n",
              "    </tr>\n",
              "  </tbody>\n",
              "</table>\n",
              "</div>"
            ],
            "text/plain": [
              "                  id  funded_amount  ...  term_in_months  lender_count\n",
              "count   22733.000000   22733.000000  ...    22733.000000  22733.000000\n",
              "mean   677674.574583    1123.253640  ...       15.582589     34.698412\n",
              "std     14419.240456    1260.256739  ...        9.634469     37.188470\n",
              "min    653047.000000      25.000000  ...        2.000000      1.000000\n",
              "25%    665246.000000     450.000000  ...       10.000000     14.000000\n",
              "50%    677386.000000     750.000000  ...       14.000000     24.000000\n",
              "75%    690255.000000    1275.000000  ...       16.000000     41.000000\n",
              "max    702902.000000   50000.000000  ...      148.000000   1491.000000\n",
              "\n",
              "[8 rows x 6 columns]"
            ]
          },
          "metadata": {
            "tags": []
          },
          "execution_count": 17
        }
      ]
    },
    {
      "cell_type": "markdown",
      "metadata": {
        "id": "Zhlg44MgQCuQ",
        "colab_type": "text"
      },
      "source": [
        "From *.describe*, key bits of information that can be extracted are that the avergae loan given to applicants ['funded_amount'] is $ 849.45 $ $. This so happens to also be the case for the avergage amount of loan applied ['loan_amount']. This would point to a, near, 100% approval rate for loans. \n",
        "\n",
        "However, more likely the case, records with incomplete data have been removed which might account for this unlikely scenario in the real world. \n",
        "I will, however, be neglecting this fact as I will be focusing in the amount of loan to give to applicants, without knowing how much they applied for, as otherwise, the ML model will most likely give the exact amount asked for.\n",
        "\n",
        "The point of this ML model is to rather suggest a value given other parameters to better understand the factors involved in the amount of loan given - for example, the use cases and location of the community where the loan has been applied for.\n",
        "\n",
        "For example, it would pointless to give more money to a farmer than a retail business owner if rather it takes more money to run a retail store than it would a farm. This would also be the case giving the same money to all farmers in all countries when the cost of living also differs drastically."
      ]
    },
    {
      "cell_type": "code",
      "metadata": {
        "id": "gvI1sUnokat3",
        "colab_type": "code",
        "colab": {}
      },
      "source": [
        "from collections import Counter\n",
        "\n",
        "def CountObject(text, name, freq_num):\n",
        "    \"\"\"Take in an array of text, and count the frequency of the words\n",
        "    \"\"\"\n",
        "\n",
        "    words = []\n",
        "    #find unique words in text\n",
        "    for i in  text:\n",
        "        if i not in words:\n",
        "            words.append(i)\n",
        "    \n",
        "    #count the frequency of the unique words\n",
        "    freq = Counter(text)\n",
        "    \n",
        "    #store the most common words given by freq_num\n",
        "    most_occur = freq.most_common(freq_num)\n",
        "    most_occur = np.array(most_occur)\n",
        "\n",
        "    words, freq = zip(*most_occur)\n",
        "\n",
        "    frequency = []\n",
        "    for i in range(0, len(freq)): \n",
        "        frequency.append(int(freq[i]))\n",
        "    \n",
        "    #plot a graph of the frequently used words\n",
        "    plt.figure(figsize=(21,7))\n",
        "    plt.barh(words, frequency, color = 'b')\n",
        "    plt.xlabel('Frequency')\n",
        "    plt.xticks()\n",
        "    plt.ylabel(name)\n",
        "    plt.show()\n",
        "\n",
        "    return most_occur"
      ],
      "execution_count": 18,
      "outputs": []
    },
    {
      "cell_type": "markdown",
      "metadata": {
        "id": "bCUkSge_UBeE",
        "colab_type": "text"
      },
      "source": [
        "*CountObject* is a function that calculates the frequency of a given entry for a specific feature, using basic **Natural Langual Processing** (NLP). The most common entries are then plotted in a bar chart."
      ]
    },
    {
      "cell_type": "code",
      "metadata": {
        "id": "Lab2lAX-kat7",
        "colab_type": "code",
        "colab": {
          "base_uri": "https://localhost:8080/",
          "height": 436
        },
        "outputId": "e2f394a4-5a4b-44eb-fd94-9e3076427dcb"
      },
      "source": [
        "country = loans[\"country\"]\n",
        "country_freq = CountObject(country, 'Country', 10)"
      ],
      "execution_count": 19,
      "outputs": [
        {
          "output_type": "display_data",
          "data": {
            "image/png": "[encoded data removed]",
            "text/plain": [
              "<Figure size 1512x504 with 1 Axes>"
            ]
          },
          "metadata": {
            "tags": [],
            "needs_background": "light"
          }
        }
      ]
    },
    {
      "cell_type": "markdown",
      "metadata": {
        "id": "8kbqOTlrWag6",
        "colab_type": "text"
      },
      "source": [
        "Following a rather exponential pattern, the **Phillipines** contains the most funded projects. As a country with a large and mostly underdevolped population, this is understandable, especially considering the geography of its archipelagos and hard to reach communities. Though it seems, the top 10 countries are generally spread amongst the underdeveloped continents or sub-continents, that is; **Africa**, **South America**, and **the Middle East**. "
      ]
    },
    {
      "cell_type": "code",
      "metadata": {
        "id": "jJOjOVPJkat-",
        "colab_type": "code",
        "colab": {
          "base_uri": "https://localhost:8080/",
          "height": 431
        },
        "outputId": "99ce06a8-f94c-4cd4-cc40-2a79cc6d6187"
      },
      "source": [
        "sector = loans[\"sector\"]\n",
        "sector_freq = CountObject(sector, 'Sector', 10)"
      ],
      "execution_count": 20,
      "outputs": [
        {
          "output_type": "display_data",
          "data": {
            "image/png": "[encoded data removed]",
            "text/plain": [
              "<Figure size 1512x504 with 1 Axes>"
            ]
          },
          "metadata": {
            "tags": [],
            "needs_background": "light"
          }
        }
      ]
    },
    {
      "cell_type": "markdown",
      "metadata": {
        "id": "LENrRWMVWw8G",
        "colab_type": "text"
      },
      "source": [
        "Understandably, **Agriculture** and **Food** are the two most largest funded sectors in these developing countries. Sustinence is a key first step to develpoing a community. Once a stable flow of nourishment is supplied, many other business can be established and a range of economic activites carried out. Moving forward with this, **Retail** is regarded as the most common and simple business to set up as it does not neccesarily require education, of which there is a lack of in develpoing countries, and can prosper with a reasonable amount of funding with less risk. It is apparent that loans for more complex businesses are far and few and thus only a product of a stablisied economy*.\n"
      ]
    },
    {
      "cell_type": "code",
      "metadata": {
        "id": "aeQwZPXGkauC",
        "colab_type": "code",
        "colab": {
          "base_uri": "https://localhost:8080/",
          "height": 411
        },
        "outputId": "db96d76a-3122-4e4b-9b1a-58acc95673f5"
      },
      "source": [
        "activity = loans['activity']\n",
        "activity_freq = CountObject(activity, 'Activity', 10)"
      ],
      "execution_count": 21,
      "outputs": [
        {
          "output_type": "display_data",
          "data": {
            "image/png": "[encoded data removed]",
            "text/plain": [
              "<Figure size 1512x504 with 1 Axes>"
            ]
          },
          "metadata": {
            "tags": [],
            "needs_background": "light"
          }
        }
      ]
    },
    {
      "cell_type": "code",
      "metadata": {
        "id": "xQFRUCt5kauE",
        "colab_type": "code",
        "colab": {
          "base_uri": "https://localhost:8080/",
          "height": 442
        },
        "outputId": "df436b24-b211-4414-81eb-e33354b5bdeb"
      },
      "source": [
        "term = loans[\"term_in_months\"]\n",
        "term_freq = CountObject(term, 'Term (months)', 10)"
      ],
      "execution_count": 22,
      "outputs": [
        {
          "output_type": "display_data",
          "data": {
            "image/png": "[encoded data removed]",
            "text/plain": [
              "<Figure size 1512x504 with 1 Axes>"
            ]
          },
          "metadata": {
            "tags": [],
            "needs_background": "light"
          }
        }
      ]
    },
    {
      "cell_type": "markdown",
      "metadata": {
        "id": "5QGST229XZ9G",
        "colab_type": "text"
      },
      "source": [
        "As you can see, there is no defined term of loan given to businesses starting up. Though the most common seem to be $ 8 $ and $ 14 $ months. *Short term is the norm*, as long term does not neccessarily guarentee a good return as the rate of growth of the local economy can go either way. If a business in a developing country was to prosper, it would have taken off rather rapidly. "
      ]
    },
    {
      "cell_type": "code",
      "metadata": {
        "id": "xXX0YaTwkauI",
        "colab_type": "code",
        "colab": {
          "base_uri": "https://localhost:8080/",
          "height": 405
        },
        "outputId": "e3deedcf-fb8e-4e94-eec5-85c152202186"
      },
      "source": [
        "gender = loans[\"borrower_genders\"]\n",
        "gender_freq = CountObject(gender, 'Gender', 5)"
      ],
      "execution_count": 23,
      "outputs": [
        {
          "output_type": "display_data",
          "data": {
            "image/png": "[encoded data removed]",
            "text/plain": [
              "<Figure size 1512x504 with 1 Axes>"
            ]
          },
          "metadata": {
            "tags": [],
            "needs_background": "light"
          }
        }
      ]
    },
    {
      "cell_type": "markdown",
      "metadata": {
        "id": "0UU3SkfVXnmj",
        "colab_type": "text"
      },
      "source": [
        "A **lone female** seems to be most common applicant of a loan. Given the position of women in many of these developing countries, it can be inferred that these women are solo businesswomen who most likely are married and are in search of, or forced to find a source of secondary income to suppotr the breadwinner of their household. For example, in $ 2017 $ and $ 2018 $, the **percentage change in marriages** recorded in the **Phillipines** increased from $ 3.6 $ and $ 3.3 $ [3], indicating that *marriage is quite still the norm*. This large female applicant base maybe due to lack of funding from family members who are reluctant to fund their women, in the eyes of their traditional norms and values. Men on the other hand are more likely to recieve funding from either local bodies, or family and friends, or inherit family-run businesses*. "
      ]
    },
    {
      "cell_type": "code",
      "metadata": {
        "id": "AwJGWy35kauK",
        "colab_type": "code",
        "colab": {
          "base_uri": "https://localhost:8080/",
          "height": 442
        },
        "outputId": "e85ea07d-0de2-488d-d8f1-f2598cc0287c"
      },
      "source": [
        "gender_df = pd.DataFrame(gender)\n",
        "\n",
        "gender_df = pd.DataFrame.squeeze(gender_df) #combine all records into one long string\n",
        "total_gender = gender_df.str.cat(sep = ',') #seperate each entry from all records\n",
        "total_gender = total_gender.replace(',', ' ') #remove all commas\n",
        "total_gender = total_gender.split() #split all the words\n",
        "\n",
        "total_gender_freq = CountObject(total_gender, 'Overall Gender', 10)"
      ],
      "execution_count": 24,
      "outputs": [
        {
          "output_type": "display_data",
          "data": {
            "image/png": "[encoded data removed]",
            "text/plain": [
              "<Figure size 1512x504 with 1 Axes>"
            ]
          },
          "metadata": {
            "tags": [],
            "needs_background": "light"
          }
        }
      ]
    },
    {
      "cell_type": "markdown",
      "metadata": {
        "id": "DdbMmDrvYRjG",
        "colab_type": "text"
      },
      "source": [
        "Further to this, I thought it would be interesting to **count the gender of all total applicants**, and just as with the **borrower_gender**, combined females make up a large proportion of applicants, whether it be solo or in a group."
      ]
    },
    {
      "cell_type": "code",
      "metadata": {
        "id": "A9VoT166kauN",
        "colab_type": "code",
        "colab": {
          "base_uri": "https://localhost:8080/",
          "height": 442
        },
        "outputId": "7303e129-532f-4844-c4c9-55b655af8cf7"
      },
      "source": [
        "funded_amount = loans[\"funded_amount\"]\n",
        "funded_amount_freq = CountObject(funded_amount, 'Funded Amount (USD)', 10)"
      ],
      "execution_count": 25,
      "outputs": [
        {
          "output_type": "display_data",
          "data": {
            "image/png": "[encoded data removed]",
            "text/plain": [
              "<Figure size 1512x504 with 1 Axes>"
            ]
          },
          "metadata": {
            "tags": [],
            "needs_background": "light"
          }
        }
      ]
    },
    {
      "cell_type": "markdown",
      "metadata": {
        "id": "-EOR0rboZD7O",
        "colab_type": "text"
      },
      "source": [
        "As with the loan term, there is no favourite loan amount to give. However, loans given by lenders in developing countries are often a small fraction of wealth acquired. For example, in $ 2019 $, the *median wealth per adult* in the **United States** was $ 65,904 $ $ [5]. Of course this may be attributed to the lower cost of living in many developing countries. "
      ]
    },
    {
      "cell_type": "code",
      "metadata": {
        "id": "LWuOpws4kauP",
        "colab_type": "code",
        "colab": {
          "base_uri": "https://localhost:8080/",
          "height": 88
        },
        "outputId": "82b619c5-3d1c-4bac-d7eb-320879e11e63"
      },
      "source": [
        "unique_countries = []\n",
        "\n",
        "#find all unique entries\n",
        "for i in country:\n",
        "    if i not in unique_countries:\n",
        "        unique_countries.append(i)\n",
        "    \n",
        "print(unique_countries)\n",
        "print('')\n",
        "print('The number of countries for which we have loan applications is:', len(unique_countries))"
      ],
      "execution_count": 27,
      "outputs": [
        {
          "output_type": "stream",
          "text": [
            "['India', 'Pakistan', 'Kenya', 'Nicaragua', 'Tanzania', 'Peru', 'Liberia', 'Vietnam', 'Cambodia', 'Philippines', 'Honduras', 'Palestine', 'Mongolia', 'United States', 'Mali', 'Colombia', 'Tajikistan', 'El Salvador', 'Bolivia', 'Ecuador', 'Ghana', 'Yemen', 'Sierra Leone', 'Haiti', 'Chile', 'Senegal', 'Jordan', 'Burundi', 'Burkina Faso', 'Timor-Leste', 'Indonesia', 'Uganda', 'Georgia', 'Ukraine', 'Guatemala', 'Albania', 'Costa Rica', 'Somalia', 'Zimbabwe', 'Dominican Republic', 'Brazil', 'Mexico', 'Azerbaijan', 'Cameroon', 'Kyrgyzstan', 'Armenia', 'The Democratic Republic of the Congo', 'Paraguay', 'Samoa', 'Israel', 'Nepal', 'Congo', 'Lebanon', 'Zambia', 'Mozambique', 'Turkey', 'South Africa', 'Togo', 'Belize', 'Rwanda', 'Suriname', 'Thailand', 'Nigeria', 'Mauritania', 'Vanuatu', 'Panama']\n",
            "\n",
            "The number of countries for which we have loan applications is: 66\n"
          ],
          "name": "stdout"
        }
      ]
    },
    {
      "cell_type": "markdown",
      "metadata": {
        "id": "rja1HIOvo5P0",
        "colab_type": "text"
      },
      "source": [
        "Now that we have a list of countries in which loans have been given in, it might be interesting to count the total funding recieved by each country."
      ]
    },
    {
      "cell_type": "code",
      "metadata": {
        "id": "jgFvCYqSkauS",
        "colab_type": "code",
        "colab": {}
      },
      "source": [
        "country = loans['country']\n",
        "funded_amount = loans['funded_amount']\n",
        "\n",
        "country = country.tolist()\n",
        "funded_amount = funded_amount.tolist()\n",
        "\n",
        "total_funding_per_country = []\n",
        "\n",
        "#count the total number of funding recieved by each country\n",
        "for i in range(0,len(unique_countries)):\n",
        "    total_amount = 0\n",
        "    for j in range(0, len(country)):\n",
        "        if unique_countries[i] == country[j]:\n",
        "            total_amount = total_amount + funded_amount[j]\n",
        "    total_funding_per_country.append(total_amount)\n",
        "    "
      ],
      "execution_count": 28,
      "outputs": []
    },
    {
      "cell_type": "code",
      "metadata": {
        "id": "yZw1o-pRkauU",
        "colab_type": "code",
        "colab": {}
      },
      "source": [
        "total_funding_countries = list(zip(unique_countries, total_funding_per_country))"
      ],
      "execution_count": 29,
      "outputs": []
    },
    {
      "cell_type": "code",
      "metadata": {
        "id": "eT-A84eTkauW",
        "colab_type": "code",
        "colab": {}
      },
      "source": [
        "def takeSecond(elem):\n",
        "  \"\"\" return the second element \n",
        "  \"\"\"\n",
        "  return elem[1]\n",
        "\n",
        "#sort the countries by funding in descending order\n",
        "total_funding_countries.sort(reverse = True, key = takeSecond)"
      ],
      "execution_count": 31,
      "outputs": []
    },
    {
      "cell_type": "code",
      "metadata": {
        "id": "988TJKG4kauZ",
        "colab_type": "code",
        "colab": {
          "base_uri": "https://localhost:8080/",
          "height": 453
        },
        "outputId": "a850109b-f193-45a1-805b-f7efcc1f4d6f"
      },
      "source": [
        "top_10_funded_countries = total_funding_countries[:10] #take the top 10 funded countries\n",
        "\n",
        "x, y = zip(*top_10_funded_countries)\n",
        "\n",
        "plt.figure(figsize = (21,7))\n",
        "plt.barh(x, y, color = 'b') \n",
        "plt.xlabel('Total Funding recieved (USD)')\n",
        "plt.xticks()\n",
        "plt.ylabel('Country')\n",
        "plt.title('Top 10 countries whom have recieved the most total funding')\n",
        "plt.show()\n",
        "         "
      ],
      "execution_count": 32,
      "outputs": [
        {
          "output_type": "display_data",
          "data": {
            "image/png": "[encoded data removed]",
            "text/plain": [
              "<Figure size 1512x504 with 1 Axes>"
            ]
          },
          "metadata": {
            "tags": [],
            "needs_background": "light"
          }
        }
      ]
    },
    {
      "cell_type": "markdown",
      "metadata": {
        "id": "a4W02iVXpE2a",
        "colab_type": "text"
      },
      "source": [
        "As with the total number of loan applications, the **Phillipines** also has the highest total funding.\n",
        "\n",
        "Further to this, it might be more interesting to calculate the *total funding per capita* given that, for example, the **Phillipines** has a high population [4] which may attribute to having a higher total funding, and the most number of applications, rather than something specific."
      ]
    },
    {
      "cell_type": "code",
      "metadata": {
        "id": "co0AOPoRkauc",
        "colab_type": "code",
        "colab": {
          "base_uri": "https://localhost:8080/",
          "height": 326
        },
        "outputId": "bccdfe7d-27f5-40da-b59d-f80ac5dd97db"
      },
      "source": [
        "world_population = pd.read_csv('API_SP.POP.TOTL_DS2_en_csv_v2_1308146.csv', skiprows = 3) # [4]\n",
        "\n",
        "world_population.head()"
      ],
      "execution_count": 33,
      "outputs": [
        {
          "output_type": "execute_result",
          "data": {
            "text/html": [
              "<div>\n",
              "<style scoped>\n",
              "    .dataframe tbody tr th:only-of-type {\n",
              "        vertical-align: middle;\n",
              "    }\n",
              "\n",
              "    .dataframe tbody tr th {\n",
              "        vertical-align: top;\n",
              "    }\n",
              "\n",
              "    .dataframe thead th {\n",
              "        text-align: right;\n",
              "    }\n",
              "</style>\n",
              "<table border=\"1\" class=\"dataframe\">\n",
              "  <thead>\n",
              "    <tr style=\"text-align: right;\">\n",
              "      <th></th>\n",
              "      <th>Country Name</th>\n",
              "      <th>Country Code</th>\n",
              "      <th>Indicator Name</th>\n",
              "      <th>Indicator Code</th>\n",
              "      <th>1960</th>\n",
              "      <th>1961</th>\n",
              "      <th>1962</th>\n",
              "      <th>1963</th>\n",
              "      <th>1964</th>\n",
              "      <th>1965</th>\n",
              "      <th>1966</th>\n",
              "      <th>1967</th>\n",
              "      <th>1968</th>\n",
              "      <th>1969</th>\n",
              "      <th>1970</th>\n",
              "      <th>1971</th>\n",
              "      <th>1972</th>\n",
              "      <th>1973</th>\n",
              "      <th>1974</th>\n",
              "      <th>1975</th>\n",
              "      <th>1976</th>\n",
              "      <th>1977</th>\n",
              "      <th>1978</th>\n",
              "      <th>1979</th>\n",
              "      <th>1980</th>\n",
              "      <th>1981</th>\n",
              "      <th>1982</th>\n",
              "      <th>1983</th>\n",
              "      <th>1984</th>\n",
              "      <th>1985</th>\n",
              "      <th>1986</th>\n",
              "      <th>1987</th>\n",
              "      <th>1988</th>\n",
              "      <th>1989</th>\n",
              "      <th>1990</th>\n",
              "      <th>1991</th>\n",
              "      <th>1992</th>\n",
              "      <th>1993</th>\n",
              "      <th>1994</th>\n",
              "      <th>1995</th>\n",
              "      <th>1996</th>\n",
              "      <th>1997</th>\n",
              "      <th>1998</th>\n",
              "      <th>1999</th>\n",
              "      <th>2000</th>\n",
              "      <th>2001</th>\n",
              "      <th>2002</th>\n",
              "      <th>2003</th>\n",
              "      <th>2004</th>\n",
              "      <th>2005</th>\n",
              "      <th>2006</th>\n",
              "      <th>2007</th>\n",
              "      <th>2008</th>\n",
              "      <th>2009</th>\n",
              "      <th>2010</th>\n",
              "      <th>2011</th>\n",
              "      <th>2012</th>\n",
              "      <th>2013</th>\n",
              "      <th>2014</th>\n",
              "      <th>2015</th>\n",
              "      <th>2016</th>\n",
              "      <th>2017</th>\n",
              "      <th>2018</th>\n",
              "      <th>2019</th>\n",
              "      <th>Unnamed: 64</th>\n",
              "    </tr>\n",
              "  </thead>\n",
              "  <tbody>\n",
              "    <tr>\n",
              "      <th>0</th>\n",
              "      <td>Aruba</td>\n",
              "      <td>ABW</td>\n",
              "      <td>Population, total</td>\n",
              "      <td>SP.POP.TOTL</td>\n",
              "      <td>54211.0</td>\n",
              "      <td>55438.0</td>\n",
              "      <td>56225.0</td>\n",
              "      <td>56695.0</td>\n",
              "      <td>57032.0</td>\n",
              "      <td>57360.0</td>\n",
              "      <td>57715.0</td>\n",
              "      <td>58055.0</td>\n",
              "      <td>58386.0</td>\n",
              "      <td>58726.0</td>\n",
              "      <td>59063.0</td>\n",
              "      <td>59440.0</td>\n",
              "      <td>59840.0</td>\n",
              "      <td>60243.0</td>\n",
              "      <td>60528.0</td>\n",
              "      <td>60657.0</td>\n",
              "      <td>60586.0</td>\n",
              "      <td>60366.0</td>\n",
              "      <td>60103.0</td>\n",
              "      <td>59980.0</td>\n",
              "      <td>60096.0</td>\n",
              "      <td>60567.0</td>\n",
              "      <td>61345.0</td>\n",
              "      <td>62201.0</td>\n",
              "      <td>62836.0</td>\n",
              "      <td>63026.0</td>\n",
              "      <td>62644.0</td>\n",
              "      <td>61833.0</td>\n",
              "      <td>61079.0</td>\n",
              "      <td>61032.0</td>\n",
              "      <td>62149.0</td>\n",
              "      <td>64622.0</td>\n",
              "      <td>68235.0</td>\n",
              "      <td>72504.0</td>\n",
              "      <td>76700.0</td>\n",
              "      <td>80324.0</td>\n",
              "      <td>83200.0</td>\n",
              "      <td>85451.0</td>\n",
              "      <td>87277.0</td>\n",
              "      <td>89005.0</td>\n",
              "      <td>90853.0</td>\n",
              "      <td>92898.0</td>\n",
              "      <td>94992.0</td>\n",
              "      <td>97017.0</td>\n",
              "      <td>98737.0</td>\n",
              "      <td>100031.0</td>\n",
              "      <td>100834.0</td>\n",
              "      <td>101222.0</td>\n",
              "      <td>101358.0</td>\n",
              "      <td>101455.0</td>\n",
              "      <td>101669.0</td>\n",
              "      <td>102046.0</td>\n",
              "      <td>102560.0</td>\n",
              "      <td>103159.0</td>\n",
              "      <td>103774.0</td>\n",
              "      <td>104341.0</td>\n",
              "      <td>104872.0</td>\n",
              "      <td>105366.0</td>\n",
              "      <td>105845.0</td>\n",
              "      <td>106314.0</td>\n",
              "      <td>NaN</td>\n",
              "    </tr>\n",
              "    <tr>\n",
              "      <th>1</th>\n",
              "      <td>Afghanistan</td>\n",
              "      <td>AFG</td>\n",
              "      <td>Population, total</td>\n",
              "      <td>SP.POP.TOTL</td>\n",
              "      <td>8996973.0</td>\n",
              "      <td>9169410.0</td>\n",
              "      <td>9351441.0</td>\n",
              "      <td>9543205.0</td>\n",
              "      <td>9744781.0</td>\n",
              "      <td>9956320.0</td>\n",
              "      <td>10174836.0</td>\n",
              "      <td>10399926.0</td>\n",
              "      <td>10637063.0</td>\n",
              "      <td>10893776.0</td>\n",
              "      <td>11173642.0</td>\n",
              "      <td>11475445.0</td>\n",
              "      <td>11791215.0</td>\n",
              "      <td>12108963.0</td>\n",
              "      <td>12412950.0</td>\n",
              "      <td>12689160.0</td>\n",
              "      <td>12943093.0</td>\n",
              "      <td>13171306.0</td>\n",
              "      <td>13341198.0</td>\n",
              "      <td>13411056.0</td>\n",
              "      <td>13356511.0</td>\n",
              "      <td>13171673.0</td>\n",
              "      <td>12882528.0</td>\n",
              "      <td>12537730.0</td>\n",
              "      <td>12204292.0</td>\n",
              "      <td>11938208.0</td>\n",
              "      <td>11736179.0</td>\n",
              "      <td>11604534.0</td>\n",
              "      <td>11618005.0</td>\n",
              "      <td>11868877.0</td>\n",
              "      <td>12412308.0</td>\n",
              "      <td>13299017.0</td>\n",
              "      <td>14485546.0</td>\n",
              "      <td>15816603.0</td>\n",
              "      <td>17075727.0</td>\n",
              "      <td>18110657.0</td>\n",
              "      <td>18853437.0</td>\n",
              "      <td>19357126.0</td>\n",
              "      <td>19737765.0</td>\n",
              "      <td>20170844.0</td>\n",
              "      <td>20779953.0</td>\n",
              "      <td>21606988.0</td>\n",
              "      <td>22600770.0</td>\n",
              "      <td>23680871.0</td>\n",
              "      <td>24726684.0</td>\n",
              "      <td>25654277.0</td>\n",
              "      <td>26433049.0</td>\n",
              "      <td>27100536.0</td>\n",
              "      <td>27722276.0</td>\n",
              "      <td>28394813.0</td>\n",
              "      <td>29185507.0</td>\n",
              "      <td>30117413.0</td>\n",
              "      <td>31161376.0</td>\n",
              "      <td>32269589.0</td>\n",
              "      <td>33370794.0</td>\n",
              "      <td>34413603.0</td>\n",
              "      <td>35383128.0</td>\n",
              "      <td>36296400.0</td>\n",
              "      <td>37172386.0</td>\n",
              "      <td>38041754.0</td>\n",
              "      <td>NaN</td>\n",
              "    </tr>\n",
              "    <tr>\n",
              "      <th>2</th>\n",
              "      <td>Angola</td>\n",
              "      <td>AGO</td>\n",
              "      <td>Population, total</td>\n",
              "      <td>SP.POP.TOTL</td>\n",
              "      <td>5454933.0</td>\n",
              "      <td>5531472.0</td>\n",
              "      <td>5608539.0</td>\n",
              "      <td>5679458.0</td>\n",
              "      <td>5735044.0</td>\n",
              "      <td>5770570.0</td>\n",
              "      <td>5781214.0</td>\n",
              "      <td>5774243.0</td>\n",
              "      <td>5771652.0</td>\n",
              "      <td>5803254.0</td>\n",
              "      <td>5890365.0</td>\n",
              "      <td>6040777.0</td>\n",
              "      <td>6248552.0</td>\n",
              "      <td>6496962.0</td>\n",
              "      <td>6761380.0</td>\n",
              "      <td>7024000.0</td>\n",
              "      <td>7279509.0</td>\n",
              "      <td>7533735.0</td>\n",
              "      <td>7790707.0</td>\n",
              "      <td>8058067.0</td>\n",
              "      <td>8341289.0</td>\n",
              "      <td>8640446.0</td>\n",
              "      <td>8952950.0</td>\n",
              "      <td>9278096.0</td>\n",
              "      <td>9614754.0</td>\n",
              "      <td>9961997.0</td>\n",
              "      <td>10320111.0</td>\n",
              "      <td>10689250.0</td>\n",
              "      <td>11068050.0</td>\n",
              "      <td>11454777.0</td>\n",
              "      <td>11848386.0</td>\n",
              "      <td>12248901.0</td>\n",
              "      <td>12657366.0</td>\n",
              "      <td>13075049.0</td>\n",
              "      <td>13503747.0</td>\n",
              "      <td>13945206.0</td>\n",
              "      <td>14400719.0</td>\n",
              "      <td>14871570.0</td>\n",
              "      <td>15359601.0</td>\n",
              "      <td>15866869.0</td>\n",
              "      <td>16395473.0</td>\n",
              "      <td>16945753.0</td>\n",
              "      <td>17519417.0</td>\n",
              "      <td>18121479.0</td>\n",
              "      <td>18758145.0</td>\n",
              "      <td>19433602.0</td>\n",
              "      <td>20149901.0</td>\n",
              "      <td>20905363.0</td>\n",
              "      <td>21695634.0</td>\n",
              "      <td>22514281.0</td>\n",
              "      <td>23356246.0</td>\n",
              "      <td>24220661.0</td>\n",
              "      <td>25107931.0</td>\n",
              "      <td>26015780.0</td>\n",
              "      <td>26941779.0</td>\n",
              "      <td>27884381.0</td>\n",
              "      <td>28842484.0</td>\n",
              "      <td>29816748.0</td>\n",
              "      <td>30809762.0</td>\n",
              "      <td>31825295.0</td>\n",
              "      <td>NaN</td>\n",
              "    </tr>\n",
              "    <tr>\n",
              "      <th>3</th>\n",
              "      <td>Albania</td>\n",
              "      <td>ALB</td>\n",
              "      <td>Population, total</td>\n",
              "      <td>SP.POP.TOTL</td>\n",
              "      <td>1608800.0</td>\n",
              "      <td>1659800.0</td>\n",
              "      <td>1711319.0</td>\n",
              "      <td>1762621.0</td>\n",
              "      <td>1814135.0</td>\n",
              "      <td>1864791.0</td>\n",
              "      <td>1914573.0</td>\n",
              "      <td>1965598.0</td>\n",
              "      <td>2022272.0</td>\n",
              "      <td>2081695.0</td>\n",
              "      <td>2135479.0</td>\n",
              "      <td>2187853.0</td>\n",
              "      <td>2243126.0</td>\n",
              "      <td>2296752.0</td>\n",
              "      <td>2350124.0</td>\n",
              "      <td>2404831.0</td>\n",
              "      <td>2458526.0</td>\n",
              "      <td>2513546.0</td>\n",
              "      <td>2566266.0</td>\n",
              "      <td>2617832.0</td>\n",
              "      <td>2671997.0</td>\n",
              "      <td>2726056.0</td>\n",
              "      <td>2784278.0</td>\n",
              "      <td>2843960.0</td>\n",
              "      <td>2904429.0</td>\n",
              "      <td>2964762.0</td>\n",
              "      <td>3022635.0</td>\n",
              "      <td>3083605.0</td>\n",
              "      <td>3142336.0</td>\n",
              "      <td>3227943.0</td>\n",
              "      <td>3286542.0</td>\n",
              "      <td>3266790.0</td>\n",
              "      <td>3247039.0</td>\n",
              "      <td>3227287.0</td>\n",
              "      <td>3207536.0</td>\n",
              "      <td>3187784.0</td>\n",
              "      <td>3168033.0</td>\n",
              "      <td>3148281.0</td>\n",
              "      <td>3128530.0</td>\n",
              "      <td>3108778.0</td>\n",
              "      <td>3089027.0</td>\n",
              "      <td>3060173.0</td>\n",
              "      <td>3051010.0</td>\n",
              "      <td>3039616.0</td>\n",
              "      <td>3026939.0</td>\n",
              "      <td>3011487.0</td>\n",
              "      <td>2992547.0</td>\n",
              "      <td>2970017.0</td>\n",
              "      <td>2947314.0</td>\n",
              "      <td>2927519.0</td>\n",
              "      <td>2913021.0</td>\n",
              "      <td>2905195.0</td>\n",
              "      <td>2900401.0</td>\n",
              "      <td>2895092.0</td>\n",
              "      <td>2889104.0</td>\n",
              "      <td>2880703.0</td>\n",
              "      <td>2876101.0</td>\n",
              "      <td>2873457.0</td>\n",
              "      <td>2866376.0</td>\n",
              "      <td>2854191.0</td>\n",
              "      <td>NaN</td>\n",
              "    </tr>\n",
              "    <tr>\n",
              "      <th>4</th>\n",
              "      <td>Andorra</td>\n",
              "      <td>AND</td>\n",
              "      <td>Population, total</td>\n",
              "      <td>SP.POP.TOTL</td>\n",
              "      <td>13411.0</td>\n",
              "      <td>14375.0</td>\n",
              "      <td>15370.0</td>\n",
              "      <td>16412.0</td>\n",
              "      <td>17469.0</td>\n",
              "      <td>18549.0</td>\n",
              "      <td>19647.0</td>\n",
              "      <td>20758.0</td>\n",
              "      <td>21890.0</td>\n",
              "      <td>23058.0</td>\n",
              "      <td>24276.0</td>\n",
              "      <td>25559.0</td>\n",
              "      <td>26892.0</td>\n",
              "      <td>28232.0</td>\n",
              "      <td>29520.0</td>\n",
              "      <td>30705.0</td>\n",
              "      <td>31777.0</td>\n",
              "      <td>32771.0</td>\n",
              "      <td>33737.0</td>\n",
              "      <td>34818.0</td>\n",
              "      <td>36067.0</td>\n",
              "      <td>37500.0</td>\n",
              "      <td>39114.0</td>\n",
              "      <td>40867.0</td>\n",
              "      <td>42706.0</td>\n",
              "      <td>44600.0</td>\n",
              "      <td>46517.0</td>\n",
              "      <td>48455.0</td>\n",
              "      <td>50434.0</td>\n",
              "      <td>52448.0</td>\n",
              "      <td>54509.0</td>\n",
              "      <td>56671.0</td>\n",
              "      <td>58888.0</td>\n",
              "      <td>60971.0</td>\n",
              "      <td>62677.0</td>\n",
              "      <td>63850.0</td>\n",
              "      <td>64360.0</td>\n",
              "      <td>64327.0</td>\n",
              "      <td>64142.0</td>\n",
              "      <td>64370.0</td>\n",
              "      <td>65390.0</td>\n",
              "      <td>67341.0</td>\n",
              "      <td>70049.0</td>\n",
              "      <td>73182.0</td>\n",
              "      <td>76244.0</td>\n",
              "      <td>78867.0</td>\n",
              "      <td>80993.0</td>\n",
              "      <td>82684.0</td>\n",
              "      <td>83862.0</td>\n",
              "      <td>84463.0</td>\n",
              "      <td>84449.0</td>\n",
              "      <td>83747.0</td>\n",
              "      <td>82427.0</td>\n",
              "      <td>80774.0</td>\n",
              "      <td>79213.0</td>\n",
              "      <td>78011.0</td>\n",
              "      <td>77297.0</td>\n",
              "      <td>77001.0</td>\n",
              "      <td>77006.0</td>\n",
              "      <td>77142.0</td>\n",
              "      <td>NaN</td>\n",
              "    </tr>\n",
              "  </tbody>\n",
              "</table>\n",
              "</div>"
            ],
            "text/plain": [
              "  Country Name Country Code  ...        2019 Unnamed: 64\n",
              "0        Aruba          ABW  ...    106314.0         NaN\n",
              "1  Afghanistan          AFG  ...  38041754.0         NaN\n",
              "2       Angola          AGO  ...  31825295.0         NaN\n",
              "3      Albania          ALB  ...   2854191.0         NaN\n",
              "4      Andorra          AND  ...     77142.0         NaN\n",
              "\n",
              "[5 rows x 65 columns]"
            ]
          },
          "metadata": {
            "tags": []
          },
          "execution_count": 33
        }
      ]
    },
    {
      "cell_type": "code",
      "metadata": {
        "id": "ul6-MM-kkauf",
        "colab_type": "code",
        "colab": {}
      },
      "source": [
        "country_WB = world_population['Country Name']\n",
        "population_WB_2018 = world_population['2018'] #take the figures for 2018 [as that was when the datasets from Kiva became available]\n"
      ],
      "execution_count": 34,
      "outputs": []
    },
    {
      "cell_type": "code",
      "metadata": {
        "scrolled": true,
        "id": "yZJ5qMwikauh",
        "colab_type": "code",
        "colab": {
          "base_uri": "https://localhost:8080/",
          "height": 451
        },
        "outputId": "33b676f1-122a-4940-9457-5a904fce181b"
      },
      "source": [
        "population = []\n",
        "\n",
        "countries_funded_desc, funding = zip(*total_funding_countries)\n",
        "\n",
        "#match the countries in which loans have been applied in to their population and their total funding\n",
        "for i in range(0, len(countries_funded_desc)):\n",
        "    for j in range(0, len(world_population)):\n",
        "        if countries_funded_desc[i] == country_WB[j]:\n",
        "            population.append([countries_funded_desc[i], population_WB_2018[j], funding[i]])\n",
        "\n",
        "country_funding, population_funding, funding = zip(*population)\n",
        "\n",
        "#calculate the total funding per capita\n",
        "funding_per_capita = np.divide(funding, population_funding)\n",
        "country_funding_per_capita = list(zip(country_funding, funding_per_capita))\n",
        "\n",
        "#sort the countries in descending order\n",
        "country_funding_per_capita.sort(reverse = True, key = takeSecond)\n",
        "\n",
        "#take the top 10 funded countries per capita\n",
        "top_10_funded_countries_per_capita = country_funding_per_capita[:10]\n",
        "\n",
        "x, y = zip(*top_10_funded_countries_per_capita)\n",
        "\n",
        "#plot this on a bar chart\n",
        "plt.figure(figsize = (21,7))\n",
        "plt.barh(x, y, color = 'b') \n",
        "plt.xlabel('Funding per capita recieved (USD')\n",
        "plt.xticks()\n",
        "plt.ylabel('Country')\n",
        "plt.title('Top 10 countries whom have recieved the most Funding per capita')\n",
        "plt.show()\n"
      ],
      "execution_count": 35,
      "outputs": [
        {
          "output_type": "display_data",
          "data": {
            "image/png": "[encoded data removed]",
            "text/plain": [
              "<Figure size 1512x504 with 1 Axes>"
            ]
          },
          "metadata": {
            "tags": [],
            "needs_background": "light"
          }
        }
      ]
    },
    {
      "cell_type": "markdown",
      "metadata": {
        "id": "7Qk8PqLQqR4o",
        "colab_type": "text"
      },
      "source": [
        "Now it is quite apparent that the countries whom recieved the most total funding did not also recieve the highest funding per capita, as with **Gross Domestic Product** (GDP). \n",
        "**Samoa**, a tiny nation in the pacific, has an extremely high total funding per capita. This maybe because as an isolated nation, its population is bound to remain low due to high cost of imports. As a result, any projects to achieve sustainable business on the island would need significantly more funding, perhaps."
      ]
    },
    {
      "cell_type": "code",
      "metadata": {
        "id": "nvE-nwA3kauk",
        "colab_type": "code",
        "colab": {
          "base_uri": "https://localhost:8080/",
          "height": 204
        },
        "outputId": "32fc73eb-267f-4be2-f846-5dbdf6784ce9"
      },
      "source": [
        "loc.head()"
      ],
      "execution_count": 36,
      "outputs": [
        {
          "output_type": "execute_result",
          "data": {
            "text/html": [
              "<div>\n",
              "<style scoped>\n",
              "    .dataframe tbody tr th:only-of-type {\n",
              "        vertical-align: middle;\n",
              "    }\n",
              "\n",
              "    .dataframe tbody tr th {\n",
              "        vertical-align: top;\n",
              "    }\n",
              "\n",
              "    .dataframe thead th {\n",
              "        text-align: right;\n",
              "    }\n",
              "</style>\n",
              "<table border=\"1\" class=\"dataframe\">\n",
              "  <thead>\n",
              "    <tr style=\"text-align: right;\">\n",
              "      <th></th>\n",
              "      <th>LocationName</th>\n",
              "      <th>ISO</th>\n",
              "      <th>country</th>\n",
              "      <th>region</th>\n",
              "      <th>world_region</th>\n",
              "      <th>MPI</th>\n",
              "      <th>geo</th>\n",
              "      <th>lat</th>\n",
              "      <th>lon</th>\n",
              "    </tr>\n",
              "  </thead>\n",
              "  <tbody>\n",
              "    <tr>\n",
              "      <th>0</th>\n",
              "      <td>Badakhshan, Afghanistan</td>\n",
              "      <td>AFG</td>\n",
              "      <td>Afghanistan</td>\n",
              "      <td>Badakhshan</td>\n",
              "      <td>South Asia</td>\n",
              "      <td>0.387</td>\n",
              "      <td>(36.7347725, 70.81199529999999)</td>\n",
              "      <td>36.734772</td>\n",
              "      <td>70.811995</td>\n",
              "    </tr>\n",
              "    <tr>\n",
              "      <th>1</th>\n",
              "      <td>Badghis, Afghanistan</td>\n",
              "      <td>AFG</td>\n",
              "      <td>Afghanistan</td>\n",
              "      <td>Badghis</td>\n",
              "      <td>South Asia</td>\n",
              "      <td>0.466</td>\n",
              "      <td>(35.1671339, 63.7695384)</td>\n",
              "      <td>35.167134</td>\n",
              "      <td>63.769538</td>\n",
              "    </tr>\n",
              "    <tr>\n",
              "      <th>2</th>\n",
              "      <td>Baghlan, Afghanistan</td>\n",
              "      <td>AFG</td>\n",
              "      <td>Afghanistan</td>\n",
              "      <td>Baghlan</td>\n",
              "      <td>South Asia</td>\n",
              "      <td>0.300</td>\n",
              "      <td>(35.8042947, 69.2877535)</td>\n",
              "      <td>35.804295</td>\n",
              "      <td>69.287754</td>\n",
              "    </tr>\n",
              "    <tr>\n",
              "      <th>3</th>\n",
              "      <td>Balkh, Afghanistan</td>\n",
              "      <td>AFG</td>\n",
              "      <td>Afghanistan</td>\n",
              "      <td>Balkh</td>\n",
              "      <td>South Asia</td>\n",
              "      <td>0.301</td>\n",
              "      <td>(36.7550603, 66.8975372)</td>\n",
              "      <td>36.755060</td>\n",
              "      <td>66.897537</td>\n",
              "    </tr>\n",
              "    <tr>\n",
              "      <th>4</th>\n",
              "      <td>Bamyan, Afghanistan</td>\n",
              "      <td>AFG</td>\n",
              "      <td>Afghanistan</td>\n",
              "      <td>Bamyan</td>\n",
              "      <td>South Asia</td>\n",
              "      <td>0.325</td>\n",
              "      <td>(34.8100067, 67.8212104)</td>\n",
              "      <td>34.810007</td>\n",
              "      <td>67.821210</td>\n",
              "    </tr>\n",
              "  </tbody>\n",
              "</table>\n",
              "</div>"
            ],
            "text/plain": [
              "              LocationName  ISO  ...        lat        lon\n",
              "0  Badakhshan, Afghanistan  AFG  ...  36.734772  70.811995\n",
              "1     Badghis, Afghanistan  AFG  ...  35.167134  63.769538\n",
              "2     Baghlan, Afghanistan  AFG  ...  35.804295  69.287754\n",
              "3       Balkh, Afghanistan  AFG  ...  36.755060  66.897537\n",
              "4      Bamyan, Afghanistan  AFG  ...  34.810007  67.821210\n",
              "\n",
              "[5 rows x 9 columns]"
            ]
          },
          "metadata": {
            "tags": []
          },
          "execution_count": 36
        }
      ]
    },
    {
      "cell_type": "markdown",
      "metadata": {
        "id": "O3wthm0brJ1T",
        "colab_type": "text"
      },
      "source": [
        "Along with the loan applications, we also have been given the **Multidimensional Poverty Index** ['MPI'], which as the name suggest is a measure of poverty, as well as the coordinates of the regions in which loans have been applied. \n"
      ]
    },
    {
      "cell_type": "code",
      "metadata": {
        "id": "NJ1GI_n35fzK",
        "colab_type": "code",
        "colab": {
          "base_uri": "https://localhost:8080/",
          "height": 368
        },
        "outputId": "4677eaf1-a85e-4697-d98a-6c63713d9046"
      },
      "source": [
        "from mpl_toolkits.basemap import Basemap\n",
        "\n",
        "plt.figure(figsize=(30,15))\n",
        "m = Basemap(projection='merc',llcrnrlat=-80,urcrnrlat=80,\\\n",
        "            llcrnrlon=-180,urcrnrlon=180,lat_ts=20,resolution='c')\n",
        "m.drawcoastlines()\n",
        "m.fillcontinents(color='lightgrey',lake_color='white', zorder = 1)\n",
        "\n",
        "# draw parallels and meridians.\n",
        "m.drawparallels(np.arange(-90.,91.,30.))\n",
        "m.drawmeridians(np.arange(-180.,181.,60.))\n",
        "m.drawmapboundary(fill_color='white')\n",
        "m.drawcountries()\n",
        "plt.title(\"Locations of Kiva Crowfunded projects\")\n",
        "\n",
        "longitude = loc['lon'].tolist()\n",
        "latitude = loc['lat'].tolist()\n",
        "MPI = loc['MPI'].tolist()\n",
        "\n",
        "x, y = m(longitude, latitude)\n",
        "\n",
        "m.scatter(x, y, c=MPI, cmap= 'Blues', alpha=0.5, zorder = 10)\n",
        "\n",
        "plt.colorbar(label=r'Multidimesional Poverty Index')\n",
        "\n",
        "plt.show()"
      ],
      "execution_count": 37,
      "outputs": [
        {
          "output_type": "error",
          "ename": "ModuleNotFoundError",
          "evalue": "ignored",
          "traceback": [
            "\u001b[0;31m---------------------------------------------------------------------------\u001b[0m",
            "\u001b[0;31mModuleNotFoundError\u001b[0m                       Traceback (most recent call last)",
            "\u001b[0;32m<ipython-input-37-2ebc70e66d28>\u001b[0m in \u001b[0;36m<module>\u001b[0;34m()\u001b[0m\n\u001b[0;32m----> 1\u001b[0;31m \u001b[0;32mfrom\u001b[0m \u001b[0mmpl_toolkits\u001b[0m\u001b[0;34m.\u001b[0m\u001b[0mbasemap\u001b[0m \u001b[0;32mimport\u001b[0m \u001b[0mBasemap\u001b[0m\u001b[0;34m\u001b[0m\u001b[0;34m\u001b[0m\u001b[0m\n\u001b[0m\u001b[1;32m      2\u001b[0m \u001b[0;34m\u001b[0m\u001b[0m\n\u001b[1;32m      3\u001b[0m \u001b[0mplt\u001b[0m\u001b[0;34m.\u001b[0m\u001b[0mfigure\u001b[0m\u001b[0;34m(\u001b[0m\u001b[0mfigsize\u001b[0m\u001b[0;34m=\u001b[0m\u001b[0;34m(\u001b[0m\u001b[0;36m30\u001b[0m\u001b[0;34m,\u001b[0m\u001b[0;36m15\u001b[0m\u001b[0;34m)\u001b[0m\u001b[0;34m)\u001b[0m\u001b[0;34m\u001b[0m\u001b[0;34m\u001b[0m\u001b[0m\n\u001b[1;32m      4\u001b[0m \u001b[0mm\u001b[0m \u001b[0;34m=\u001b[0m \u001b[0mBasemap\u001b[0m\u001b[0;34m(\u001b[0m\u001b[0mprojection\u001b[0m\u001b[0;34m=\u001b[0m\u001b[0;34m'merc'\u001b[0m\u001b[0;34m,\u001b[0m\u001b[0mllcrnrlat\u001b[0m\u001b[0;34m=\u001b[0m\u001b[0;34m-\u001b[0m\u001b[0;36m80\u001b[0m\u001b[0;34m,\u001b[0m\u001b[0murcrnrlat\u001b[0m\u001b[0;34m=\u001b[0m\u001b[0;36m80\u001b[0m\u001b[0;34m,\u001b[0m            \u001b[0mllcrnrlon\u001b[0m\u001b[0;34m=\u001b[0m\u001b[0;34m-\u001b[0m\u001b[0;36m180\u001b[0m\u001b[0;34m,\u001b[0m\u001b[0murcrnrlon\u001b[0m\u001b[0;34m=\u001b[0m\u001b[0;36m180\u001b[0m\u001b[0;34m,\u001b[0m\u001b[0mlat_ts\u001b[0m\u001b[0;34m=\u001b[0m\u001b[0;36m20\u001b[0m\u001b[0;34m,\u001b[0m\u001b[0mresolution\u001b[0m\u001b[0;34m=\u001b[0m\u001b[0;34m'c'\u001b[0m\u001b[0;34m)\u001b[0m\u001b[0;34m\u001b[0m\u001b[0;34m\u001b[0m\u001b[0m\n\u001b[1;32m      5\u001b[0m \u001b[0mm\u001b[0m\u001b[0;34m.\u001b[0m\u001b[0mdrawcoastlines\u001b[0m\u001b[0;34m(\u001b[0m\u001b[0;34m)\u001b[0m\u001b[0;34m\u001b[0m\u001b[0;34m\u001b[0m\u001b[0m\n",
            "\u001b[0;31mModuleNotFoundError\u001b[0m: No module named 'mpl_toolkits.basemap'",
            "",
            "\u001b[0;31m---------------------------------------------------------------------------\u001b[0;32m\nNOTE: If your import is failing due to a missing package, you can\nmanually install dependencies using either !pip or !apt.\n\nTo view examples of installing some common dependencies, click the\n\"Open Examples\" button below.\n\u001b[0;31m---------------------------------------------------------------------------\u001b[0m\n"
          ]
        }
      ]
    },
    {
      "cell_type": "markdown",
      "metadata": {
        "id": "OYWT0B0B6h5f",
        "colab_type": "text"
      },
      "source": [
        "This graph shows the locations of all the regions for which we have the MPI for, as well as visually, the MPI for each of these regions. \n",
        "\n",
        "Most applicants reside between the two tropics, and the greatest concentration of applicants seems to be in central Africa. Not surprisingly, central Africa also has some of the highest Multidimensional Poverty Index rates."
      ]
    },
    {
      "cell_type": "markdown",
      "metadata": {
        "id": "sLfw2kC-5gOy",
        "colab_type": "text"
      },
      "source": [
        "\n",
        "It would be ideal to match each loan application to the MPI associated with the region as this surely would affect the amount of funding given to a loan applicant.\n",
        "However, given other datasets provided by Kiva that should've allowed this to occur, I found a problem with the environment in which the relational databases were set up, most notably, that there was not a one-to-one relationship between the local location where the loans were applied and their associated MPI.\n",
        "And so as a compromise, I have calculated the *average MPI for each country* in the hope that it will provide a generalised metric to assessing the poverty in each nation. "
      ]
    },
    {
      "cell_type": "code",
      "metadata": {
        "id": "wRwM-W87kaum",
        "colab_type": "code",
        "colab": {
          "base_uri": "https://localhost:8080/",
          "height": 88
        },
        "outputId": "6c586278-3ac3-4592-d71d-86a71e09b96e"
      },
      "source": [
        "unique_countries_loc = []\n",
        "\n",
        "country_loc = loc['country'].tolist()\n",
        "\n",
        "#count the unique countries in the loc dataset\n",
        "for i in country_loc:\n",
        "    if i not in unique_countries_loc:\n",
        "        unique_countries_loc.append(i)\n",
        "    \n",
        "print(unique_countries_loc)\n",
        "print('')\n",
        "print('The number of countries whose MPI we have is:', len(unique_countries_loc))"
      ],
      "execution_count": 38,
      "outputs": [
        {
          "output_type": "stream",
          "text": [
            "['Afghanistan', 'Burundi', 'Benin', 'Burkina Faso', 'Bangladesh', 'Belize', 'Bolivia, Plurinational State of', 'Brazil', 'Bhutan', 'Central African Republic', 'China', \"Cote d'Ivoire\", 'Cameroon', 'Congo, Democratic Republic of the', 'Congo, Republic of', 'Colombia', 'Comoros', 'Djibouti', 'Dominican Republic', 'Ecuador', 'Egypt', 'Ethiopia', 'Gabon', 'Ghana', 'Guinea', 'Gambia', 'Guinea-Bissau', 'Guatemala', 'Guyana', 'Honduras', 'Haiti', 'Indonesia', 'Iraq', 'Jamaica', 'Jordan', 'Kenya', 'Cambodia', \"Lao People's Democratic Republic\", 'Liberia', 'Lesotho', 'Morocco', 'Madagascar', 'Mali', 'Myanmar', 'Mongolia', 'Mozambique', 'Mauritania', 'Malawi', 'Namibia', 'Niger', 'Nigeria', 'Nicaragua', 'Nepal', 'Pakistan', 'Peru', 'Philippines', 'Rwanda', 'Sudan', 'Senegal', 'Sierra Leone', 'El Salvador', 'South Sudan', 'Sao Tome and Principe', 'Suriname', 'Swaziland', 'Syrian Arab Republic', 'Chad', 'Togo', 'Tajikistan', 'Timor-Leste', 'Trinidad and Tobago', 'Tanzania, United Republic of', 'Uganda', 'Uzbekistan', 'Viet Nam', 'Yemen', 'Zambia', 'Zimbabwe']\n",
            "\n",
            "The number of countries whose MPI we have is: 78\n"
          ],
          "name": "stdout"
        }
      ]
    },
    {
      "cell_type": "code",
      "metadata": {
        "id": "vBhKGcLFkaup",
        "colab_type": "code",
        "colab": {
          "base_uri": "https://localhost:8080/",
          "height": 431
        },
        "outputId": "c1c59de6-b3fe-485a-970a-aaf106185d18"
      },
      "source": [
        "country_loc = loc['country'].tolist()\n",
        "MPI = loc['MPI'].tolist()\n",
        "\n",
        "average_MPI = []\n",
        "\n",
        "#count the total MPI for all regions in a given country and divide by the number of regions to obtain the average MPI for each country\n",
        "for i in range(0, len(unique_countries_loc)):\n",
        "    total_MPI = 0\n",
        "    number_of_regions = 0\n",
        "    for j in range(0, len(country_loc)):\n",
        "        if unique_countries_loc[i] == country_loc[j]:\n",
        "            total_MPI = total_MPI + MPI[j]\n",
        "            number_of_regions = number_of_regions + 1\n",
        "    average_MPI_for_that_country = total_MPI/number_of_regions\n",
        "    average_MPI.append([unique_countries_loc[i], average_MPI_for_that_country])\n",
        "\n",
        "#sort the average MPI in descending order\n",
        "average_MPI.sort(reverse = True, key = takeSecond)\n",
        "\n",
        "#take the top 10 most deprived nations\n",
        "top_10_MPIs = average_MPI[:10]\n",
        "\n",
        "x, y = zip(*top_10_MPIs)\n",
        "\n",
        "#plot this data on a bar chart\n",
        "plt.figure(figsize = (21,7))\n",
        "plt.barh(x, y, color = 'b') \n",
        "plt.xlabel('Country')\n",
        "plt.xticks()\n",
        "plt.ylabel('Average MPI')\n",
        "plt.title('Top 10 countries with the highest Multidimensional Poverty Index (MPI)')\n",
        "plt.show()\n"
      ],
      "execution_count": 39,
      "outputs": [
        {
          "output_type": "display_data",
          "data": {
            "image/png": "[encoded data removed]",
            "text/plain": [
              "<Figure size 1512x504 with 1 Axes>"
            ]
          },
          "metadata": {
            "tags": [],
            "needs_background": "light"
          }
        }
      ]
    },
    {
      "cell_type": "markdown",
      "metadata": {
        "id": "LYqc6t8Dsjbz",
        "colab_type": "text"
      },
      "source": [
        "The generalised metric is that **the higher the MPI, the greater the impoverishment** in that nation. As such, most of the most impoverished nations are located in the central African sub-continent, near the equator. "
      ]
    },
    {
      "cell_type": "code",
      "metadata": {
        "id": "KNa0bYdNkaus",
        "colab_type": "code",
        "colab": {
          "base_uri": "https://localhost:8080/",
          "height": 34
        },
        "outputId": "6d9041bb-884a-46a4-f2f9-100eb8a307dc"
      },
      "source": [
        "#create a placeholder for values for which the MPI will be inserted into incase there are countries whose MPI we do not know\n",
        "placeholder = np.full(len(loans), np.nan)\n",
        "\n",
        "average_MPI_country, average_MPI_value = zip(*average_MPI)\n",
        "\n",
        "#match the avergae MPI for each country to each loan application\n",
        "for i in range(0, len(country)):\n",
        "    for j in range(0, len(average_MPI)):\n",
        "        if country[i] == average_MPI_country[j]:\n",
        "            placeholder[i] = average_MPI_value[j]\n",
        "\n",
        "print(len(placeholder))"
      ],
      "execution_count": 40,
      "outputs": [
        {
          "output_type": "stream",
          "text": [
            "22733\n"
          ],
          "name": "stdout"
        }
      ]
    },
    {
      "cell_type": "code",
      "metadata": {
        "id": "ETs8uXNLkauu",
        "colab_type": "code",
        "colab": {}
      },
      "source": [
        "#place the average MPI values into the loans dataset\n",
        "loans['MPI'] = placeholder"
      ],
      "execution_count": 41,
      "outputs": []
    },
    {
      "cell_type": "code",
      "metadata": {
        "id": "Isk5F3tFkauw",
        "colab_type": "code",
        "colab": {
          "base_uri": "https://localhost:8080/",
          "height": 683
        },
        "outputId": "6b79f1f7-d06e-4778-b0ce-5f3a11756722"
      },
      "source": [
        "loans.head()"
      ],
      "execution_count": 43,
      "outputs": [
        {
          "output_type": "execute_result",
          "data": {
            "text/html": [
              "<div>\n",
              "<style scoped>\n",
              "    .dataframe tbody tr th:only-of-type {\n",
              "        vertical-align: middle;\n",
              "    }\n",
              "\n",
              "    .dataframe tbody tr th {\n",
              "        vertical-align: top;\n",
              "    }\n",
              "\n",
              "    .dataframe thead th {\n",
              "        text-align: right;\n",
              "    }\n",
              "</style>\n",
              "<table border=\"1\" class=\"dataframe\">\n",
              "  <thead>\n",
              "    <tr style=\"text-align: right;\">\n",
              "      <th></th>\n",
              "      <th>id</th>\n",
              "      <th>funded_amount</th>\n",
              "      <th>loan_amount</th>\n",
              "      <th>activity</th>\n",
              "      <th>sector</th>\n",
              "      <th>use</th>\n",
              "      <th>country_code</th>\n",
              "      <th>country</th>\n",
              "      <th>region</th>\n",
              "      <th>currency</th>\n",
              "      <th>partner_id</th>\n",
              "      <th>posted_time</th>\n",
              "      <th>disbursed_time</th>\n",
              "      <th>funded_time</th>\n",
              "      <th>term_in_months</th>\n",
              "      <th>lender_count</th>\n",
              "      <th>tags</th>\n",
              "      <th>borrower_genders</th>\n",
              "      <th>repayment_interval</th>\n",
              "      <th>date</th>\n",
              "      <th>MPI</th>\n",
              "    </tr>\n",
              "  </thead>\n",
              "  <tbody>\n",
              "    <tr>\n",
              "      <th>2</th>\n",
              "      <td>653068</td>\n",
              "      <td>150.0</td>\n",
              "      <td>150.0</td>\n",
              "      <td>Transportation</td>\n",
              "      <td>Transportation</td>\n",
              "      <td>To repair their old cycle-van and buy another ...</td>\n",
              "      <td>IN</td>\n",
              "      <td>India</td>\n",
              "      <td>Maynaguri</td>\n",
              "      <td>INR</td>\n",
              "      <td>334.0</td>\n",
              "      <td>2014-01-01 09:58:07+00:00</td>\n",
              "      <td>2013-12-17 08:00:00+00:00</td>\n",
              "      <td>2014-01-01 16:01:36+00:00</td>\n",
              "      <td>43.0</td>\n",
              "      <td>6.0</td>\n",
              "      <td>user_favorite, user_favorite</td>\n",
              "      <td>female</td>\n",
              "      <td>bullet</td>\n",
              "      <td>2014-01-01</td>\n",
              "      <td>NaN</td>\n",
              "    </tr>\n",
              "    <tr>\n",
              "      <th>6</th>\n",
              "      <td>653067</td>\n",
              "      <td>200.0</td>\n",
              "      <td>200.0</td>\n",
              "      <td>Dairy</td>\n",
              "      <td>Agriculture</td>\n",
              "      <td>To purchase a dairy cow and start a milk produ...</td>\n",
              "      <td>IN</td>\n",
              "      <td>India</td>\n",
              "      <td>Maynaguri</td>\n",
              "      <td>INR</td>\n",
              "      <td>334.0</td>\n",
              "      <td>2014-01-01 09:51:02+00:00</td>\n",
              "      <td>2013-12-16 08:00:00+00:00</td>\n",
              "      <td>2014-01-01 17:18:09+00:00</td>\n",
              "      <td>43.0</td>\n",
              "      <td>8.0</td>\n",
              "      <td>user_favorite, user_favorite</td>\n",
              "      <td>female</td>\n",
              "      <td>bullet</td>\n",
              "      <td>2014-01-01</td>\n",
              "      <td>NaN</td>\n",
              "    </tr>\n",
              "    <tr>\n",
              "      <th>7</th>\n",
              "      <td>653078</td>\n",
              "      <td>400.0</td>\n",
              "      <td>400.0</td>\n",
              "      <td>Beauty Salon</td>\n",
              "      <td>Services</td>\n",
              "      <td>to buy more hair and skin care products.</td>\n",
              "      <td>PK</td>\n",
              "      <td>Pakistan</td>\n",
              "      <td>Ellahabad</td>\n",
              "      <td>PKR</td>\n",
              "      <td>245.0</td>\n",
              "      <td>2014-01-01 11:46:01+00:00</td>\n",
              "      <td>2013-12-20 08:00:00+00:00</td>\n",
              "      <td>2014-01-10 18:18:44+00:00</td>\n",
              "      <td>14.0</td>\n",
              "      <td>8.0</td>\n",
              "      <td>#Elderly, #Woman Owned Biz</td>\n",
              "      <td>female</td>\n",
              "      <td>monthly</td>\n",
              "      <td>2014-01-01</td>\n",
              "      <td>0.233167</td>\n",
              "    </tr>\n",
              "    <tr>\n",
              "      <th>8</th>\n",
              "      <td>653082</td>\n",
              "      <td>475.0</td>\n",
              "      <td>475.0</td>\n",
              "      <td>Manufacturing</td>\n",
              "      <td>Manufacturing</td>\n",
              "      <td>to purchase leather, plastic soles and heels i...</td>\n",
              "      <td>PK</td>\n",
              "      <td>Pakistan</td>\n",
              "      <td>Lahore</td>\n",
              "      <td>PKR</td>\n",
              "      <td>245.0</td>\n",
              "      <td>2014-01-01 11:49:43+00:00</td>\n",
              "      <td>2013-12-20 08:00:00+00:00</td>\n",
              "      <td>2014-01-01 18:47:21+00:00</td>\n",
              "      <td>14.0</td>\n",
              "      <td>19.0</td>\n",
              "      <td>user_favorite</td>\n",
              "      <td>female</td>\n",
              "      <td>monthly</td>\n",
              "      <td>2014-01-01</td>\n",
              "      <td>0.233167</td>\n",
              "    </tr>\n",
              "    <tr>\n",
              "      <th>12</th>\n",
              "      <td>653089</td>\n",
              "      <td>400.0</td>\n",
              "      <td>400.0</td>\n",
              "      <td>General Store</td>\n",
              "      <td>Retail</td>\n",
              "      <td>to buy stock of rice, sugar and flour .</td>\n",
              "      <td>PK</td>\n",
              "      <td>Pakistan</td>\n",
              "      <td>Faisalabad</td>\n",
              "      <td>PKR</td>\n",
              "      <td>245.0</td>\n",
              "      <td>2014-01-01 12:04:57+00:00</td>\n",
              "      <td>2013-12-24 08:00:00+00:00</td>\n",
              "      <td>2014-01-08 00:35:14+00:00</td>\n",
              "      <td>14.0</td>\n",
              "      <td>16.0</td>\n",
              "      <td>#Repeat Borrower, #Woman Owned Biz</td>\n",
              "      <td>female</td>\n",
              "      <td>monthly</td>\n",
              "      <td>2014-01-01</td>\n",
              "      <td>0.233167</td>\n",
              "    </tr>\n",
              "  </tbody>\n",
              "</table>\n",
              "</div>"
            ],
            "text/plain": [
              "        id  funded_amount  loan_amount  ... repayment_interval        date       MPI\n",
              "2   653068          150.0        150.0  ...             bullet  2014-01-01       NaN\n",
              "6   653067          200.0        200.0  ...             bullet  2014-01-01       NaN\n",
              "7   653078          400.0        400.0  ...            monthly  2014-01-01  0.233167\n",
              "8   653082          475.0        475.0  ...            monthly  2014-01-01  0.233167\n",
              "12  653089          400.0        400.0  ...            monthly  2014-01-01  0.233167\n",
              "\n",
              "[5 rows x 21 columns]"
            ]
          },
          "metadata": {
            "tags": []
          },
          "execution_count": 43
        }
      ]
    },
    {
      "cell_type": "code",
      "metadata": {
        "id": "0FMDNU55kauy",
        "colab_type": "code",
        "colab": {
          "base_uri": "https://localhost:8080/",
          "height": 34
        },
        "outputId": "1f813490-ceaf-49ad-b26d-4815de41499a"
      },
      "source": [
        "#remove countries, and subsequently loan applications, whose MPI we do not have\n",
        "loans.dropna(inplace = True)\n",
        "print('The number of loans we have know is', len(loans))"
      ],
      "execution_count": 45,
      "outputs": [
        {
          "output_type": "stream",
          "text": [
            "The number of loans we have know is 17866\n"
          ],
          "name": "stdout"
        }
      ]
    },
    {
      "cell_type": "markdown",
      "metadata": {
        "id": "N2LHMHSNtwGB",
        "colab_type": "text"
      },
      "source": [
        "Now we have completed some exploratory data analysis, it is now time to select features which most probably has a greater effect on the amount of funding given to each loan applicant. \n",
        "It is important to note that I have removed the **country** feature, which some of you may think is important, since the economic situation of a country and improve and just as well decline. To account for this, the **MPI** would be a better measure for identifying each country and ensure that the ML model is agile in responding to real world economic developments rather than fixating on the name of a country, and hence it's apparent non-changing economic situation.\n",
        "\n",
        "Furthermore, I believe that **currency** would also help us to assess the economic situation when comparing *currency rates* relative to the base USD. The *cost of living*, would also be a deciding factor in the amount of funding given, however I did not have the time to implement either features. As an idea, I would've included the **Purchasing Power Parity** (PPP), which is a measure of the cost of goods in a given country."
      ]
    },
    {
      "cell_type": "code",
      "metadata": {
        "id": "zyw7-OkOkau0",
        "colab_type": "code",
        "colab": {}
      },
      "source": [
        "#drop these columns which, in my opinion, have little to no effect on the funding given to each loan applicant.\n",
        "loans_clean = loans.drop(columns = ['loan_amount', 'country_code', 'country', 'region', 'currency', 'use', 'posted_time', 'disbursed_time', 'funded_time', 'tags', 'repayment_interval', 'date', 'partner_id'])"
      ],
      "execution_count": 50,
      "outputs": []
    },
    {
      "cell_type": "markdown",
      "metadata": {
        "id": "byDsAFFHvjBi",
        "colab_type": "text"
      },
      "source": [
        "This is what we are left with:"
      ]
    },
    {
      "cell_type": "code",
      "metadata": {
        "id": "OUEVsUmNkau2",
        "colab_type": "code",
        "colab": {
          "base_uri": "https://localhost:8080/",
          "height": 204
        },
        "outputId": "25ae1cae-9014-477e-b8d5-96845f85ea4c"
      },
      "source": [
        "loans_clean.head()"
      ],
      "execution_count": 51,
      "outputs": [
        {
          "output_type": "execute_result",
          "data": {
            "text/html": [
              "<div>\n",
              "<style scoped>\n",
              "    .dataframe tbody tr th:only-of-type {\n",
              "        vertical-align: middle;\n",
              "    }\n",
              "\n",
              "    .dataframe tbody tr th {\n",
              "        vertical-align: top;\n",
              "    }\n",
              "\n",
              "    .dataframe thead th {\n",
              "        text-align: right;\n",
              "    }\n",
              "</style>\n",
              "<table border=\"1\" class=\"dataframe\">\n",
              "  <thead>\n",
              "    <tr style=\"text-align: right;\">\n",
              "      <th></th>\n",
              "      <th>id</th>\n",
              "      <th>funded_amount</th>\n",
              "      <th>activity</th>\n",
              "      <th>sector</th>\n",
              "      <th>term_in_months</th>\n",
              "      <th>lender_count</th>\n",
              "      <th>borrower_genders</th>\n",
              "      <th>MPI</th>\n",
              "    </tr>\n",
              "  </thead>\n",
              "  <tbody>\n",
              "    <tr>\n",
              "      <th>7</th>\n",
              "      <td>653078</td>\n",
              "      <td>400.0</td>\n",
              "      <td>Beauty Salon</td>\n",
              "      <td>Services</td>\n",
              "      <td>14.0</td>\n",
              "      <td>8.0</td>\n",
              "      <td>female</td>\n",
              "      <td>0.233167</td>\n",
              "    </tr>\n",
              "    <tr>\n",
              "      <th>8</th>\n",
              "      <td>653082</td>\n",
              "      <td>475.0</td>\n",
              "      <td>Manufacturing</td>\n",
              "      <td>Manufacturing</td>\n",
              "      <td>14.0</td>\n",
              "      <td>19.0</td>\n",
              "      <td>female</td>\n",
              "      <td>0.233167</td>\n",
              "    </tr>\n",
              "    <tr>\n",
              "      <th>12</th>\n",
              "      <td>653089</td>\n",
              "      <td>400.0</td>\n",
              "      <td>General Store</td>\n",
              "      <td>Retail</td>\n",
              "      <td>14.0</td>\n",
              "      <td>16.0</td>\n",
              "      <td>female</td>\n",
              "      <td>0.233167</td>\n",
              "    </tr>\n",
              "    <tr>\n",
              "      <th>16</th>\n",
              "      <td>653091</td>\n",
              "      <td>400.0</td>\n",
              "      <td>General Store</td>\n",
              "      <td>Retail</td>\n",
              "      <td>14.0</td>\n",
              "      <td>11.0</td>\n",
              "      <td>female</td>\n",
              "      <td>0.233167</td>\n",
              "    </tr>\n",
              "    <tr>\n",
              "      <th>19</th>\n",
              "      <td>653080</td>\n",
              "      <td>475.0</td>\n",
              "      <td>Beauty Salon</td>\n",
              "      <td>Services</td>\n",
              "      <td>14.0</td>\n",
              "      <td>18.0</td>\n",
              "      <td>female</td>\n",
              "      <td>0.233167</td>\n",
              "    </tr>\n",
              "  </tbody>\n",
              "</table>\n",
              "</div>"
            ],
            "text/plain": [
              "        id  funded_amount  ... borrower_genders       MPI\n",
              "7   653078          400.0  ...           female  0.233167\n",
              "8   653082          475.0  ...           female  0.233167\n",
              "12  653089          400.0  ...           female  0.233167\n",
              "16  653091          400.0  ...           female  0.233167\n",
              "19  653080          475.0  ...           female  0.233167\n",
              "\n",
              "[5 rows x 8 columns]"
            ]
          },
          "metadata": {
            "tags": []
          },
          "execution_count": 51
        }
      ]
    },
    {
      "cell_type": "markdown",
      "metadata": {
        "id": "4aPbcTrJvnWD",
        "colab_type": "text"
      },
      "source": [
        "Of course, in order to run through a ML model, we must convert all features into numerical catogories. So, **activity**, **sector**, and **borrower_genders**."
      ]
    },
    {
      "cell_type": "code",
      "metadata": {
        "id": "SNdilxarkau5",
        "colab_type": "code",
        "colab": {
          "base_uri": "https://localhost:8080/",
          "height": 34
        },
        "outputId": "c98f86d2-b9ad-4e3c-c93d-ca3f948dc8d9"
      },
      "source": [
        "unique_activities = []\n",
        "\n",
        "activity = loans_clean['activity'].tolist()\n",
        "\n",
        "#find all the unique entries for activity\n",
        "for i in activity:\n",
        "    if i not in unique_activities:\n",
        "        unique_activities.append(i)\n",
        "        \n",
        "print('The number of unique entries for activity is', len(unique_activities))\n",
        "\n",
        "numbering_activities = list(range(len(unique_activities)))\n",
        "\n",
        "activities_numbered = []\n",
        "\n",
        "#replace each activity with an assigned number\n",
        "for i in range(0,len(loans_clean)):\n",
        "    for j in range(0,len(unique_activities)):\n",
        "        if activity[i] == unique_activities[j]:\n",
        "            activities_numbered.append(numbering_activities[j])\n",
        "            "
      ],
      "execution_count": 52,
      "outputs": [
        {
          "output_type": "stream",
          "text": [
            "The number of unique entries for activity is 145\n"
          ],
          "name": "stdout"
        }
      ]
    },
    {
      "cell_type": "code",
      "metadata": {
        "id": "PLGXwYq0kau8",
        "colab_type": "code",
        "colab": {}
      },
      "source": [
        "#drop the activity feature and replace with the numerical activity feature\n",
        "loans_clean = loans_clean.drop(columns = 'activity', axis = 1)\n",
        "loans_clean['activity'] = activities_numbered\n"
      ],
      "execution_count": 53,
      "outputs": []
    },
    {
      "cell_type": "code",
      "metadata": {
        "id": "KGMnUHarkau-",
        "colab_type": "code",
        "colab": {
          "base_uri": "https://localhost:8080/",
          "height": 34
        },
        "outputId": "35bae021-7f16-47d7-ab2d-c8e41ecdb132"
      },
      "source": [
        "unique_sector = []\n",
        "\n",
        "sector = loans_clean['sector'].tolist()\n",
        "\n",
        "#find all the unique entries for sector\n",
        "for i in sector:\n",
        "    if i not in unique_sector:\n",
        "        unique_sector.append(i)\n",
        "        \n",
        "print('The number of unique entries for sector is', len(unique_sector))\n",
        "\n",
        "numbering_sectors = list(range(len(unique_sector)))\n",
        "\n",
        "sectors_numbered = []\n",
        "\n",
        "\n",
        "#replace each sector with an assigned number\n",
        "for i in range(0,len(loans_clean)):\n",
        "    for j in range(0,len(unique_sector)):\n",
        "        if sector[i] == unique_sector[j]:\n",
        "            sectors_numbered.append(numbering_sectors[j])\n",
        "            "
      ],
      "execution_count": 54,
      "outputs": [
        {
          "output_type": "stream",
          "text": [
            "The number of unique entries for sector is 15\n"
          ],
          "name": "stdout"
        }
      ]
    },
    {
      "cell_type": "code",
      "metadata": {
        "id": "CPHIMWCQkavB",
        "colab_type": "code",
        "colab": {}
      },
      "source": [
        "#drop the sector feature and replace with the numerical sector feature\n",
        "loans_clean = loans_clean.drop(columns = 'sector', axis = 1)\n",
        "loans_clean['sector'] = sectors_numbered\n"
      ],
      "execution_count": 55,
      "outputs": []
    },
    {
      "cell_type": "markdown",
      "metadata": {
        "id": "58nuzB4vwwDg",
        "colab_type": "text"
      },
      "source": [
        "Now that **activity** and **sector** have been sorted, it's now time to turn to **borrower_genders**. The problem is that theoretically, the possibilities for the entries for this feature is endless as it lists all the gender of all the loan applicants. \n",
        "To simplify this, I will be counting the number of females and males in each loan application and simply stating the **dominant gender** as a sort of average. If the number of females equals the number of males, I have simply stated *'male'* as the dominant gender since it is apparent that human assessors have a positive bias towards men, unfortunately, as with many world languages, such as French, that label a group of equal men and women as being masculine, just to give an example."
      ]
    },
    {
      "cell_type": "code",
      "metadata": {
        "id": "kRGhCOSBkavI",
        "colab_type": "code",
        "colab": {}
      },
      "source": [
        "total_gender_count = []\n",
        "\n",
        "#identifying alphabets that let us distinguish between male and female\n",
        "identifying_alphabet = ['f', ',']\n",
        "\n",
        "gender = loans_clean['borrower_genders'].tolist()\n",
        "\n",
        "#count the letters f and , in each entry, the number of females = the count of the letter f, \n",
        "#the number of males = the count of the comma + 1 minus the count of the letter f\n",
        "for i in range(0, len(loans_clean)):\n",
        "    f_count = gender[i].count(identifying_alphabet[0])\n",
        "    comma_count = gender[i].count(identifying_alphabet[1]) + 1\n",
        "    m_count = abs(f_count-comma_count)\n",
        "    total_gender_count.append([f_count, m_count])\n",
        "\n",
        "dominating_gender = []\n",
        "\n",
        "females, males = zip(*total_gender_count)\n",
        "\n",
        "#tell us the dominant gender in each gender count\n",
        "for i in range(0, len(total_gender_count)):\n",
        "    if females[i] > males[i]:\n",
        "        dominating_gender.append(0)\n",
        "    else:\n",
        "        dominating_gender.append(1)\n"
      ],
      "execution_count": 56,
      "outputs": []
    },
    {
      "cell_type": "markdown",
      "metadata": {
        "id": "QIBEqoOoyIwO",
        "colab_type": "text"
      },
      "source": [
        "The way in which we identify the genders and their count in each entry is rather dodgy, or I should say 'unpythonic' but nonetheless works.\n",
        "The difference in the words 'female' and 'male' is the letter 'f' and 'e', but the last letter is always 'e'. So when going through a string, the number of females can be counted by counting the number of 'f's. Each applicant is seperated by a comma. The total number of applicants is equal to the number of commas plus one. And hence, with my GCSE Maths, the number of males is equal to the number of commas plus one minus the number of females.\n",
        "\n",
        "Make sense? Good!"
      ]
    },
    {
      "cell_type": "code",
      "metadata": {
        "id": "oFpKCWFfkavK",
        "colab_type": "code",
        "colab": {}
      },
      "source": [
        "#drop the borrower_genders feature and replace with the dominanting_gender feature\n",
        "loans_clean = loans_clean.drop(columns = 'borrower_genders', axis = 1)\n",
        "loans_clean['dominating_gender'] = dominating_gender\n"
      ],
      "execution_count": 57,
      "outputs": []
    },
    {
      "cell_type": "markdown",
      "metadata": {
        "id": "LQiCJ--SzA-6",
        "colab_type": "text"
      },
      "source": [
        "And finally we are left with this that we can pass through our ML model:"
      ]
    },
    {
      "cell_type": "code",
      "metadata": {
        "id": "EU-Y65rTkavM",
        "colab_type": "code",
        "colab": {
          "base_uri": "https://localhost:8080/",
          "height": 204
        },
        "outputId": "47cb51c4-a486-4254-c4c3-e7fe1b126625"
      },
      "source": [
        "loans_clean.head()"
      ],
      "execution_count": 58,
      "outputs": [
        {
          "output_type": "execute_result",
          "data": {
            "text/html": [
              "<div>\n",
              "<style scoped>\n",
              "    .dataframe tbody tr th:only-of-type {\n",
              "        vertical-align: middle;\n",
              "    }\n",
              "\n",
              "    .dataframe tbody tr th {\n",
              "        vertical-align: top;\n",
              "    }\n",
              "\n",
              "    .dataframe thead th {\n",
              "        text-align: right;\n",
              "    }\n",
              "</style>\n",
              "<table border=\"1\" class=\"dataframe\">\n",
              "  <thead>\n",
              "    <tr style=\"text-align: right;\">\n",
              "      <th></th>\n",
              "      <th>id</th>\n",
              "      <th>funded_amount</th>\n",
              "      <th>term_in_months</th>\n",
              "      <th>lender_count</th>\n",
              "      <th>MPI</th>\n",
              "      <th>activity</th>\n",
              "      <th>sector</th>\n",
              "      <th>dominating_gender</th>\n",
              "    </tr>\n",
              "  </thead>\n",
              "  <tbody>\n",
              "    <tr>\n",
              "      <th>7</th>\n",
              "      <td>653078</td>\n",
              "      <td>400.0</td>\n",
              "      <td>14.0</td>\n",
              "      <td>8.0</td>\n",
              "      <td>0.233167</td>\n",
              "      <td>0</td>\n",
              "      <td>0</td>\n",
              "      <td>0</td>\n",
              "    </tr>\n",
              "    <tr>\n",
              "      <th>8</th>\n",
              "      <td>653082</td>\n",
              "      <td>475.0</td>\n",
              "      <td>14.0</td>\n",
              "      <td>19.0</td>\n",
              "      <td>0.233167</td>\n",
              "      <td>1</td>\n",
              "      <td>1</td>\n",
              "      <td>0</td>\n",
              "    </tr>\n",
              "    <tr>\n",
              "      <th>12</th>\n",
              "      <td>653089</td>\n",
              "      <td>400.0</td>\n",
              "      <td>14.0</td>\n",
              "      <td>16.0</td>\n",
              "      <td>0.233167</td>\n",
              "      <td>2</td>\n",
              "      <td>2</td>\n",
              "      <td>0</td>\n",
              "    </tr>\n",
              "    <tr>\n",
              "      <th>16</th>\n",
              "      <td>653091</td>\n",
              "      <td>400.0</td>\n",
              "      <td>14.0</td>\n",
              "      <td>11.0</td>\n",
              "      <td>0.233167</td>\n",
              "      <td>2</td>\n",
              "      <td>2</td>\n",
              "      <td>0</td>\n",
              "    </tr>\n",
              "    <tr>\n",
              "      <th>19</th>\n",
              "      <td>653080</td>\n",
              "      <td>475.0</td>\n",
              "      <td>14.0</td>\n",
              "      <td>18.0</td>\n",
              "      <td>0.233167</td>\n",
              "      <td>0</td>\n",
              "      <td>0</td>\n",
              "      <td>0</td>\n",
              "    </tr>\n",
              "  </tbody>\n",
              "</table>\n",
              "</div>"
            ],
            "text/plain": [
              "        id  funded_amount  term_in_months  ...  activity  sector  dominating_gender\n",
              "7   653078          400.0            14.0  ...         0       0                  0\n",
              "8   653082          475.0            14.0  ...         1       1                  0\n",
              "12  653089          400.0            14.0  ...         2       2                  0\n",
              "16  653091          400.0            14.0  ...         2       2                  0\n",
              "19  653080          475.0            14.0  ...         0       0                  0\n",
              "\n",
              "[5 rows x 8 columns]"
            ]
          },
          "metadata": {
            "tags": []
          },
          "execution_count": 58
        }
      ]
    },
    {
      "cell_type": "markdown",
      "metadata": {
        "id": "bynl8VeVzK6j",
        "colab_type": "text"
      },
      "source": [
        "Now, we need to split our data into a training and test set using the **split_data** function."
      ]
    },
    {
      "cell_type": "code",
      "metadata": {
        "id": "WCjr18LokavP",
        "colab_type": "code",
        "colab": {}
      },
      "source": [
        "from typing import TypeVar, List, Tuple\n",
        "import random\n",
        "\n",
        "X = TypeVar('X')    #generic type to represent a data point\n",
        "Y = TypeVar('Y')    #generic type to represent ouput variables\n",
        "\n",
        "def split_data(data: List[X], prob: float) -> Tuple[List[X], List[X]]:\n",
        "    \"\"\"Split data into fractions in a random order [prob, 1-prob]\"\"\"\n",
        "\n",
        "    data = data[:]  #make a shallow copy\n",
        "    random.shuffle(data)    #because shuffle modifies the list\n",
        "    cut = int(len(data)*prob)   #use prob to find a cutoff\n",
        "    \n",
        "    return data[:cut], data[cut:]\n",
        "    "
      ],
      "execution_count": 59,
      "outputs": []
    },
    {
      "cell_type": "markdown",
      "metadata": {
        "id": "Mo8crZQO0Shn",
        "colab_type": "text"
      },
      "source": [
        "I am going to assign 75% of the data to the training set and 25% to the test set."
      ]
    },
    {
      "cell_type": "code",
      "metadata": {
        "id": "46fSeZ-kkavR",
        "colab_type": "code",
        "colab": {
          "base_uri": "https://localhost:8080/",
          "height": 51
        },
        "outputId": "b8462edd-6039-4d87-bd62-b27422e00844"
      },
      "source": [
        "data_tr, data_te = split_data(loans_clean.values.tolist(), 0.75)\n",
        "\n",
        "data_train = pd.DataFrame(data_tr, columns = ['id', 'funded_amount' , 'term_in_months', 'lender_count', 'MPI', 'activity', 'sector', 'dominating_gender'])\n",
        "data_test = pd.DataFrame(data_te, columns = ['id', 'funded_amount' , 'term_in_months', 'lender_count', 'MPI', 'activity', 'sector', 'dominating_gender'])\n",
        "\n",
        "print('The number of data records to train the model is:', len(data_train))\n",
        "print('The number of data records to test the model is:', len(data_test))"
      ],
      "execution_count": 60,
      "outputs": [
        {
          "output_type": "stream",
          "text": [
            "The number of data records to train the model is: 13399\n",
            "The number of data records to test the model is: 4467\n"
          ],
          "name": "stdout"
        }
      ]
    },
    {
      "cell_type": "code",
      "metadata": {
        "id": "iSzB0qLckavU",
        "colab_type": "code",
        "colab": {
          "base_uri": "https://localhost:8080/",
          "height": 34
        },
        "outputId": "2e280317-e413-4d98-9e5f-d46f0f53432a"
      },
      "source": [
        "X_train = data_train.drop([\"id\", \"funded_amount\"], axis=1)\n",
        "Y_train = data_train[\"funded_amount\"]\n",
        "X_test  = data_test.drop([\"id\", \"funded_amount\"], axis=1).copy()\n",
        "Y_true = data_test['funded_amount']\n",
        "X_train.shape, Y_train.shape, X_test.shape"
      ],
      "execution_count": 65,
      "outputs": [
        {
          "output_type": "execute_result",
          "data": {
            "text/plain": [
              "((13399, 6), (13399,), (4467, 6))"
            ]
          },
          "metadata": {
            "tags": []
          },
          "execution_count": 65
        }
      ]
    },
    {
      "cell_type": "markdown",
      "metadata": {
        "id": "WyolrXOF0csk",
        "colab_type": "text"
      },
      "source": [
        "## ***Part II:*** **Implementing a Machine Learning model**"
      ]
    },
    {
      "cell_type": "code",
      "metadata": {
        "id": "dtC-S7BHkavY",
        "colab_type": "code",
        "colab": {}
      },
      "source": [
        "#machine learning\n",
        "from sklearn.ensemble import RandomForestRegressor\n",
        "from sklearn.metrics import mean_squared_error\n",
        "import math"
      ],
      "execution_count": 62,
      "outputs": []
    },
    {
      "cell_type": "markdown",
      "metadata": {
        "id": "b0PXp38h0tLo",
        "colab_type": "text"
      },
      "source": [
        "From previous experience, a Random Forest is usually the best model to implement given the cotinugity in the **funded_amount** data."
      ]
    },
    {
      "cell_type": "code",
      "metadata": {
        "id": "rxxsNDjMoDcv",
        "colab_type": "code",
        "colab": {
          "base_uri": "https://localhost:8080/",
          "height": 34
        },
        "outputId": "90ef8306-0cd0-42e2-8d59-cb9655011785"
      },
      "source": [
        "random_forest = RandomForestRegressor(n_estimators=100)\n",
        "random_forest.fit(X_train, Y_train)\n",
        "Y_pred = random_forest.predict(X_test)\n",
        "print(math.sqrt(mean_squared_error(Y_true, Y_pred)))\n",
        "#acc_random_forest = round(random_forest.score(X_train, Y_train) * 100, 2)\n",
        "#acc_random_forest\n",
        "\n"
      ],
      "execution_count": 71,
      "outputs": [
        {
          "output_type": "stream",
          "text": [
            "358.11673554982957\n"
          ],
          "name": "stdout"
        }
      ]
    },
    {
      "cell_type": "markdown",
      "metadata": {
        "id": "MQauCHYF04wy",
        "colab_type": "text"
      },
      "source": [
        "And there we have it, with a confidence score of $ 98.36 $, I would consider this a decent outcome."
      ]
    },
    {
      "cell_type": "markdown",
      "metadata": {
        "id": "ps7tsFn_1Bko",
        "colab_type": "text"
      },
      "source": [
        "## **My Thoughts and Conclusions**\n",
        "\n",
        "I believe that this project is very generalised and of course given more time, I would have done some more data analysis and tried to find out, with factual evidence, which features are most useful for predicting the amount of funding one should give to a loan applicant, or in general any business in a developing country.\n",
        "\n",
        "This should merely serve as an example of what something like this could be with significant business acumen and expertise, as well as access to other resources. \n",
        "\n",
        "I would also like to point out that implementation of the **RandomForestRegressor** has been very basic, and as with anything, given more time, I would have also created a validation set to provide further insight into whether my model was overfitting or underfitting as well as calculate the realtive importance of each feature. As a note, I would have calculated a *Root-Mean-Square-Error* (RMSE) to provide a better metric in assessing the ML model, as opposed to the *Confidence score*. "
      ]
    },
    {
      "cell_type": "markdown",
      "metadata": {
        "id": "0NGPmEavYKUa",
        "colab_type": "text"
      },
      "source": [
        "\n",
        "**I should point out that any inferences I make are a product of my own understanding and common sense. Any statements made are extremely generalised and serve the purpose of providing context and a generalised understanding to any readers.*"
      ]
    },
    {
      "cell_type": "markdown",
      "metadata": {
        "id": "rkiLktOl2gSc",
        "colab_type": "text"
      },
      "source": [
        "## **References**:\n",
        "\n",
        "[1] https://www.kaggle.com/kiva/data-science-for-good-kiva-crowdfunding\n",
        "\n",
        "[2] https://ophi.org.uk/multidimensional-poverty-index/#:~:text=The%20global%20Multidimensional%20Poverty%20Index,that%20a%20person%20faces%20simultaneously\n",
        "\n",
        "[3] https://psa.gov.ph/content/marriages-philippines-2018\n",
        "\n",
        "[4] https://data.worldbank.org/indicator/SP.POP.TOTL\n",
        "\n",
        "[5] https://en.wikipedia.org/wiki/List_of_countries_by_wealth_per_adult\n"
      ]
    }
  ]
}